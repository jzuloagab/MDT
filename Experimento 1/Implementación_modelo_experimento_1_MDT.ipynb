{
  "nbformat": 4,
  "nbformat_minor": 0,
  "metadata": {
    "colab": {
      "provenance": [],
      "toc_visible": true
    },
    "kernelspec": {
      "name": "python3",
      "display_name": "Python 3"
    },
    "accelerator": "GPU",
    "gpuClass": "standard"
  },
  "cells": [
    {
      "cell_type": "markdown",
      "metadata": {
        "id": "iZULaGX7_H1u"
      },
      "source": [
        "# Entrenamiento y evaluación de modelo experimento 1\n",
        "* **Autor:** Julian Zuloaga\n",
        "* **Asignatura:** Memoria de Título\n",
        "* **Fecha:** 01 de agosto de 2022\n",
        "---"
      ]
    },
    {
      "cell_type": "markdown",
      "source": [
        "**Descripción:** Este notebook de Colab se encarga de tomar el fragmento de la base de datos AffectNet procesada para contar con anotaciones en formato YOLOv4 (mediante el programa del notebook \"Software para generación de anotaciones en formato YOLOv4 | MDT.ipynb\") y luego entrenar un modelo de YOLOv4 con ella (YOLOv4_AffectNet_v2).\n",
        "\n",
        "* **Nota: Se recomienda hacer una copia de este cuaderno en su unidad de Google Drive personal antes de ejecutar las celdas de código.**\n",
        "---"
      ],
      "metadata": {
        "id": "5JWxo3S8ANsc"
      }
    },
    {
      "cell_type": "markdown",
      "source": [
        "## Paso 1: Se importan recursos"
      ],
      "metadata": {
        "id": "WcUs8yi7A5jb"
      }
    },
    {
      "cell_type": "code",
      "metadata": {
        "id": "68eMertgIxaB"
      },
      "source": [
        "# Se clona repositorio con Darknet y YoloV4\n",
        "!git clone https://github.com/AlexeyAB/darknet"
      ],
      "execution_count": null,
      "outputs": []
    },
    {
      "cell_type": "code",
      "metadata": {
        "id": "xym8_m8CIyXK"
      },
      "source": [
        "# Se modifica archivo Makefile para habilitar uso de GPU y OPENCV\n",
        "%cd darknet\n",
        "!sed -i 's/OPENCV=0/OPENCV=1/' Makefile\n",
        "!sed -i 's/GPU=0/GPU=1/' Makefile\n",
        "!sed -i 's/CUDNN=0/CUDNN=1/' Makefile\n",
        "!sed -i 's/CUDNN_HALF=0/CUDNN_HALF=1/' Makefile"
      ],
      "execution_count": null,
      "outputs": []
    },
    {
      "cell_type": "code",
      "source": [
        "# Para pruebas sobre CPU\n",
        "#%cd darknet\n",
        "#!sed -i 's/OPENCV=0/OPENCV=1/' Makefile\n",
        "#!sed -i 's/CPU=0/CPU=1/' Makefile"
      ],
      "metadata": {
        "id": "ATT2T87eb6cI"
      },
      "execution_count": null,
      "outputs": []
    },
    {
      "cell_type": "code",
      "metadata": {
        "id": "q2Jjv0yRKLPe"
      },
      "source": [
        "# Se ejecuta comando make de darknet para poder usar el archivo ejecutable para entrenamiento o detecciones\n",
        "!make"
      ],
      "execution_count": null,
      "outputs": []
    },
    {
      "cell_type": "code",
      "metadata": {
        "id": "G9Fv0wjCMPYY"
      },
      "source": [
        "# Se definen funciones auxiliares\n",
        "# Para mostrar imágenes en Colab\n",
        "def imShow(path):\n",
        "  import cv2\n",
        "  import matplotlib.pyplot as plt\n",
        "  %matplotlib inline\n",
        "  image = cv2.imread(path)\n",
        "  height, width = image.shape[:2]\n",
        "  resized_image = cv2.resize(image,(3*width, 3*height), interpolation = cv2.INTER_CUBIC)\n",
        "  fig = plt.gcf()\n",
        "  fig.set_size_inches(18, 10)\n",
        "  plt.axis(\"off\")\n",
        "  plt.imshow(cv2.cvtColor(resized_image, cv2.COLOR_BGR2RGB))\n",
        "  plt.show()\n",
        "# Para descargar archivos desde Colab al PC local\n",
        "def download(path):\n",
        "  from google.colab import files\n",
        "  files.download(path)"
      ],
      "execution_count": null,
      "outputs": []
    },
    {
      "cell_type": "code",
      "metadata": {
        "id": "uMLpWp-DZSZY"
      },
      "source": [
        "# Se monta unidad de Google Drive para transferir archivos más rápido\n",
        "%cd ..\n",
        "from google.colab import drive\n",
        "drive.mount('/content/gdrive')"
      ],
      "execution_count": null,
      "outputs": []
    },
    {
      "cell_type": "code",
      "metadata": {
        "id": "bBFiu7rFZdmU"
      },
      "source": [
        "# Se creal symbolic link con dirección de la unidad de Drive para facilitar sintaxis.\n",
        "!ln -s /content/gdrive/My\\ Drive/ /mydrive\n",
        "!ls /mydrive"
      ],
      "execution_count": null,
      "outputs": []
    },
    {
      "cell_type": "code",
      "metadata": {
        "id": "JafIRIU0Z6UQ"
      },
      "source": [
        "# Se retorna a directorio de darknet\n",
        "%cd darknet"
      ],
      "execution_count": null,
      "outputs": []
    },
    {
      "cell_type": "code",
      "metadata": {
        "id": "zqLQF0fNWJro"
      },
      "source": [
        "# se copian los datasets para entrenamiento y evaluación a la CloudVM de Colab\n",
        "!cp /mydrive/YOLOv4_AffectNet_v2/obj.zip ../\n",
        "!cp /mydrive/YOLOv4_AffectNet_v2/test.zip ../"
      ],
      "execution_count": null,
      "outputs": []
    },
    {
      "cell_type": "code",
      "metadata": {
        "id": "A9mYUoKOWWlR"
      },
      "source": [
        "# se descomprimen los archivos de la base de datos y se guardan en la carpeta data de darknet\n",
        "!unzip ../obj.zip -d data/\n",
        "!unzip ../test.zip -d data/"
      ],
      "execution_count": null,
      "outputs": []
    },
    {
      "cell_type": "code",
      "metadata": {
        "id": "kXkXb1tlLCnE"
      },
      "source": [
        "# Se sube el archivo de configuración de la red de YOLOv4 a la CloudVM de Colab\n",
        "!cp /mydrive/YOLOv4_AffectNet_v2/yolov4-obj.cfg ./cfg"
      ],
      "execution_count": null,
      "outputs": []
    },
    {
      "cell_type": "code",
      "metadata": {
        "id": "1vuqvzvLUtw2"
      },
      "source": [
        "# Se cargan más archivos de configuración necesarios a la CloudVM de Colab\n",
        "!cp /mydrive/YOLOv4_AffectNet_v2/obj.names ./data\n",
        "!cp /mydrive/YOLOv4_AffectNet_v2/obj.data  ./data\n",
        "!cp /mydrive/YOLOv4_AffectNet_v2/generate_train.py ./\n",
        "!cp /mydrive/YOLOv4_AffectNet_v2/generate_test.py ./"
      ],
      "execution_count": null,
      "outputs": []
    },
    {
      "cell_type": "code",
      "metadata": {
        "id": "DAKjJSJwJb5R"
      },
      "source": [
        "# Se ejecutan estos scripts de python necesarios para el entrenamiento\n",
        "!python generate_train.py\n",
        "!python generate_test.py"
      ],
      "execution_count": null,
      "outputs": []
    },
    {
      "cell_type": "code",
      "metadata": {
        "id": "KcUKbtO-byOE"
      },
      "source": [
        "# antes de inicial el entrenamiento, está fuertemente recomendado copiar estos pesos pre entrenados de YOLO para hacer\n",
        "# transferlearning y así, que el entrenamiento sea más corto.\n",
        "!wget https://github.com/AlexeyAB/darknet/releases/download/darknet_yolo_v3_optimal/yolov4.conv.137"
      ],
      "execution_count": null,
      "outputs": []
    },
    {
      "cell_type": "markdown",
      "source": [
        "## Paso 2: Se inicia entrenamiento del modelo de YOLOv4"
      ],
      "metadata": {
        "id": "AKkqv2lNBiJQ"
      }
    },
    {
      "cell_type": "code",
      "metadata": {
        "id": "imc0NP19hLuq"
      },
      "source": [
        "# Se inicia entrenamiento del modelo\n",
        "!./darknet detector train data/obj.data cfg/yolov4-obj.cfg yolov4.conv.137 -dont_show -map"
      ],
      "execution_count": null,
      "outputs": []
    },
    {
      "cell_type": "markdown",
      "source": [
        "## Paso 3: Se reanuda entrenamiento del modelo de YOLOv4\n",
        "En caso de que el entrenamiento del paso 2 haya sido detenido, es posible retomar el entrenamiento con la siguiente instrucción."
      ],
      "metadata": {
        "id": "xfY4filWBl3J"
      }
    },
    {
      "cell_type": "code",
      "metadata": {
        "id": "Fl7PsmikjCBW"
      },
      "source": [
        "# retomar entrenamiento desde el último peso guardado\n",
        "!./darknet detector train data/obj.data cfg/yolov4-obj.cfg /mydrive/YOLOv4_AffectNet_v2/backup/yolov4-obj_last.weights -dont_show"
      ],
      "execution_count": null,
      "outputs": []
    },
    {
      "cell_type": "markdown",
      "source": [
        "## Paso 4: Se evalúa la precisión del modelo generado"
      ],
      "metadata": {
        "id": "44D_daouB1nh"
      }
    },
    {
      "cell_type": "code",
      "metadata": {
        "id": "2UoSBmTFlNep"
      },
      "source": [
        "# Se evalúa la precisión del modelo generado mediante cálculo de mAP\n",
        "!./darknet detector map data/obj.data cfg/yolov4-obj.cfg /mydrive/YOLOv4_AffectNet_v2/backup/yolov4-obj_last.weights"
      ],
      "execution_count": null,
      "outputs": []
    },
    {
      "cell_type": "markdown",
      "source": [
        "## Paso 5: Se realizan pruebas de inferencia sobre imágenes"
      ],
      "metadata": {
        "id": "QBBYoaxGB8C3"
      }
    },
    {
      "cell_type": "code",
      "metadata": {
        "id": "xXkZNeA09o2f"
      },
      "source": [
        "# Para realizar pruebas de detección, es necesario cambiar estos parámetros antes del archivo de configuración\n",
        "%cd cfg\n",
        "!sed -i 's/batch=64/batch=1/' yolov4-obj.cfg\n",
        "!sed -i 's/subdivisions=16/subdivisions=1/' yolov4-obj.cfg\n",
        "%cd .."
      ],
      "execution_count": null,
      "outputs": []
    },
    {
      "cell_type": "code",
      "metadata": {
        "id": "o7IIzEal90dA"
      },
      "source": [
        "# Se ejecuta la detección con imagen guardada en unidad de Google Drive\n",
        "!./darknet detector test data/obj.data cfg/yolov4-obj.cfg /mydrive/YOLOv4_AffectNet_v2/backup/yolov4-obj_last.weights /mydrive/YOLOv4_AffectNet_v1/imagenes/14.jpg -thresh 0.3\n",
        "imShow('predictions.jpg')"
      ],
      "execution_count": null,
      "outputs": []
    },
    {
      "cell_type": "code",
      "source": [
        "# Volver a estos parámetros de configuración para retomar entrenamiento\n",
        "%cd cfg\n",
        "!sed -i 's/batch=1/batch=64/' yolov4-obj.cfg\n",
        "!sed -i 's/subdivisions=1/subdivisions=16/' yolov4-obj.cfg\n",
        "%cd .."
      ],
      "metadata": {
        "id": "7qEFjNEX1npM"
      },
      "execution_count": null,
      "outputs": []
    },
    {
      "cell_type": "markdown",
      "source": [
        "Fin del programa."
      ],
      "metadata": {
        "id": "Ym2Kir3KvCWV"
      }
    }
  ]
}