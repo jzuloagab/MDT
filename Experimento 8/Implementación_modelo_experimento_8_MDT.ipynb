{
  "cells": [
    {
      "cell_type": "markdown",
      "source": [
        "# Entrenamiento y evaluación de modelo experimento 8\n",
        "* **Autor:** Julian Zuloaga\n",
        "* **Asignatura:** Memoria de Título\n",
        "* **Fecha:** 16 de octubre de 2022\n",
        "---"
      ],
      "metadata": {
        "id": "V8opkA20ld98"
      }
    },
    {
      "cell_type": "markdown",
      "source": [
        "**Descripción:** Este notebook de Colab se encarga de entrenar un modelo de YOLOv4 (YOLOv4_Mosaic_Dataset_v7) con un conjunto de Custom Mosaics generados con el notebook \"Generacion de Custom Mosaics para el experimento 8 - MDT.ipynb\".\n",
        "\n",
        "**[Notas base de datos]**\n",
        "* Número de rostros por mosaico = 6 (pero en 3 tamaños distintos)\n",
        "* Número de ejemplos negativos por mosaico: 10"
      ],
      "metadata": {
        "id": "AEj-r6falfMw"
      }
    },
    {
      "cell_type": "markdown",
      "metadata": {
        "id": "U4FiGYs_pBqx"
      },
      "source": [
        "# Paso 1: Copia de repositorio"
      ]
    },
    {
      "cell_type": "code",
      "execution_count": null,
      "metadata": {
        "id": "okg7fcC-pGHZ"
      },
      "outputs": [],
      "source": [
        "# Se clona el repositorio de Alexey Bochkovskiy con YOLOv4 y el framework Darknet\n",
        "!git clone https://github.com/AlexeyAB/darknet"
      ]
    },
    {
      "cell_type": "code",
      "execution_count": null,
      "metadata": {
        "id": "X5pIAMlOprKr"
      },
      "outputs": [],
      "source": [
        "# Se modifica el archivo makefile para habilitar el uso de GPU y OPENCV\n",
        "%cd darknet\n",
        "!sed -i 's/OPENCV=0/OPENCV=1/' Makefile\n",
        "!sed -i 's/GPU=0/GPU=1/' Makefile\n",
        "!sed -i 's/CUDNN=0/CUDNN=1/' Makefile\n",
        "!sed -i 's/CUDNN_HALF=0/CUDNN_HALF=1/' Makefile"
      ]
    },
    {
      "cell_type": "code",
      "execution_count": null,
      "metadata": {
        "id": "GAziiBX9ctD5"
      },
      "outputs": [],
      "source": [
        "# Se verifica versión de CUDA\n",
        "!/usr/local/cuda/bin/nvcc --version"
      ]
    },
    {
      "cell_type": "code",
      "execution_count": null,
      "metadata": {
        "id": "GpFF46kDlJTi"
      },
      "outputs": [],
      "source": [
        "# Se descarga archivo detector.c modificado para habilitar respaldos de pesos cada 1000 iteraciones de entrenamiento\n",
        "!wget --load-cookies /tmp/cookies.txt \"https://docs.google.com/uc?export=download&confirm=$(wget --quiet --save-cookies /tmp/cookies.txt --keep-session-cookies --no-check-certificate 'https://docs.google.com/uc?export=download&id=125EdgI2LgII3ihVpcUEN96tz8L37t2Zw' -O- | sed -rn 's/.*confirm=([0-9A-Za-z_]+).*/\\1\\n/p')&id=125EdgI2LgII3ihVpcUEN96tz8L37t2Zw\" -O /content/darknet/src/detector.c && rm -rf /tmp/cookies.txt"
      ]
    },
    {
      "cell_type": "code",
      "execution_count": null,
      "metadata": {
        "colab": {
          "background_save": true
        },
        "id": "QzZ3BbBrqg0S"
      },
      "outputs": [],
      "source": [
        "# make darknet\n",
        "!make"
      ]
    },
    {
      "cell_type": "markdown",
      "metadata": {
        "id": "x0UbvAQkqotO"
      },
      "source": [
        "# Paso 2: Funciones auxiliares"
      ]
    },
    {
      "cell_type": "code",
      "execution_count": null,
      "metadata": {
        "colab": {
          "background_save": true
        },
        "id": "RRqE81ijqyNy"
      },
      "outputs": [],
      "source": [
        "# Función para mostrar imágenes con cv2\n",
        "def imShow(path):\n",
        "  import cv2\n",
        "  import matplotlib.pyplot as plt\n",
        "  %matplotlib inline\n",
        "\n",
        "  image = cv2.imread(path)\n",
        "  height, width = image.shape[:2]\n",
        "  resized_image = cv2.resize(image,(3*width, 3*height), interpolation = cv2.INTER_CUBIC)\n",
        "\n",
        "  fig = plt.gcf()\n",
        "  fig.set_size_inches(18, 10)\n",
        "  plt.axis(\"off\")\n",
        "  plt.imshow(cv2.cvtColor(resized_image, cv2.COLOR_BGR2RGB))\n",
        "  plt.show()\n",
        "\n",
        "# Función para descargar archivos desde Colab a nuestro PC local (por lo general no suelo usar esta función...)\n",
        "def download(path):\n",
        "  from google.colab import files\n",
        "  files.download(path)"
      ]
    },
    {
      "cell_type": "markdown",
      "metadata": {
        "id": "TS78NMetrS5v"
      },
      "source": [
        "# Paso 3: Se monta unidad de Google Drive\n"
      ]
    },
    {
      "cell_type": "code",
      "execution_count": null,
      "metadata": {
        "id": "kYzarS22rfQN"
      },
      "outputs": [],
      "source": [
        "# Se monta unidad de google drive a la máquina virtual de Colab\n",
        "%cd ..\n",
        "from google.colab import drive\n",
        "drive.mount('/content/gdrive')"
      ]
    },
    {
      "cell_type": "code",
      "execution_count": null,
      "metadata": {
        "id": "FlI2oZN6ri3m"
      },
      "outputs": [],
      "source": [
        "# Se crea un symbolic link para reemplazar \"/content/gdrive/My\\ Drive/\" a \"/mydrive\"\n",
        "!ln -s /content/gdrive/My\\ Drive/ /mydrive\n",
        "!ls /mydrive"
      ]
    },
    {
      "cell_type": "code",
      "execution_count": null,
      "metadata": {
        "id": "SXtCk6WFryTj"
      },
      "outputs": [],
      "source": [
        "# Se vuelve a la carpeta principal de darknet\n",
        "%cd darknet"
      ]
    },
    {
      "cell_type": "markdown",
      "metadata": {
        "id": "sn4HrhqTspT9"
      },
      "source": [
        "# Paso 4: Carga de Base de datos"
      ]
    },
    {
      "cell_type": "code",
      "execution_count": null,
      "metadata": {
        "id": "kQW8_CHnsuPj"
      },
      "outputs": [],
      "source": [
        "# Se copian los archivos comprimidos de la base de datos\n",
        "!cp /mydrive/YOLOv4_Mosaic_Dataset_v7/Dataset/obj.zip ../\n",
        "!cp /mydrive/YOLOv4_Mosaic_Dataset_v7/Dataset/test.zip ../"
      ]
    },
    {
      "cell_type": "code",
      "execution_count": null,
      "metadata": {
        "id": "fJId2Klatsc1"
      },
      "outputs": [],
      "source": [
        "# unzip the datasets and their contents so that they are now in /darknet/data/ folder\n",
        "!unzip ../obj.zip -d data/\n",
        "!unzip ../test.zip -d data/"
      ]
    },
    {
      "cell_type": "markdown",
      "metadata": {
        "id": "EcrVolagt8IY"
      },
      "source": [
        "# Paso 5: Carga de archivos de configuración"
      ]
    },
    {
      "cell_type": "code",
      "execution_count": null,
      "metadata": {
        "id": "l-Ze44Frt_XD"
      },
      "outputs": [],
      "source": [
        "# Se carga archivo de configuración .cfg desde Google Drive\n",
        "!cp /mydrive/YOLOv4_Mosaic_Dataset_v7/yolov4-obj.cfg ./cfg"
      ]
    },
    {
      "cell_type": "code",
      "execution_count": null,
      "metadata": {
        "id": "EDqAy8_UuLSE"
      },
      "outputs": [],
      "source": [
        "# Se suben los archivos obj.names y obj.data desde Google Drive\n",
        "!cp /mydrive/YOLOv4_Mosaic_Dataset_v7/obj.names ./data\n",
        "!cp /mydrive/YOLOv4_Mosaic_Dataset_v7/obj.data  ./data"
      ]
    },
    {
      "cell_type": "code",
      "execution_count": null,
      "metadata": {
        "id": "3aMXPaHauZzz"
      },
      "outputs": [],
      "source": [
        "# Se suben los archivos generate_train.py y generate_test.py desde Google Drive\n",
        "!cp /mydrive/YOLOv4_Mosaic_Dataset_v7/generate_train.py ./\n",
        "!cp /mydrive/YOLOv4_Mosaic_Dataset_v7/generate_test.py ./"
      ]
    },
    {
      "cell_type": "code",
      "execution_count": null,
      "metadata": {
        "id": "tjabHupRukhW"
      },
      "outputs": [],
      "source": [
        "# Se ejecutan los archivos recien subidos\n",
        "!python generate_train.py\n",
        "!python generate_test.py"
      ]
    },
    {
      "cell_type": "code",
      "execution_count": null,
      "metadata": {
        "id": "DGAw7GFDuvVC"
      },
      "outputs": [],
      "source": [
        "# Se verifica que se haya generado los archivos train.txt test.txt\n",
        "!ls data/"
      ]
    },
    {
      "cell_type": "code",
      "execution_count": null,
      "metadata": {
        "id": "DVDZykyCvrRM"
      },
      "outputs": [],
      "source": [
        "# Se lanza error para detener ejecución de todas las celdas\n",
        "assert False"
      ]
    },
    {
      "cell_type": "markdown",
      "metadata": {
        "id": "dCwSY4h8u4iU"
      },
      "source": [
        "# Paso 6: Carga de pesos pre entrenados"
      ]
    },
    {
      "cell_type": "code",
      "execution_count": null,
      "metadata": {
        "id": "QmvlIpU_u_E0"
      },
      "outputs": [],
      "source": [
        "# Estos pesos se descargan del mismo repositorio que Darknet\n",
        "!wget https://github.com/AlexeyAB/darknet/releases/download/darknet_yolo_v3_optimal/yolov4.conv.137"
      ]
    },
    {
      "cell_type": "markdown",
      "metadata": {
        "id": "x-86RujnvFO6"
      },
      "source": [
        "# Paso 7: Inicio de entrenamiento"
      ]
    },
    {
      "cell_type": "code",
      "execution_count": null,
      "metadata": {
        "id": "vfeVu_HzvIR9"
      },
      "outputs": [],
      "source": [
        "# Se comienza el entrenamiento de la red! (descomentar %%capture si ocurren problemas de memoria o Colab lanza algún error)\n",
        "# %%capture\n",
        "!./darknet detector train data/obj.data cfg/yolov4-obj.cfg yolov4.conv.137 -dont_show -map"
      ]
    },
    {
      "cell_type": "markdown",
      "metadata": {
        "id": "BBfjucq3va3S"
      },
      "source": [
        "# Paso 8: Reanudación de entrenamiento"
      ]
    },
    {
      "cell_type": "code",
      "execution_count": null,
      "metadata": {
        "id": "RMhuqPcdvl5u"
      },
      "outputs": [],
      "source": [
        "# Se reanuda el entrenamiento desde los últimos pesos guardados\n",
        "!./darknet detector train data/obj.data cfg/yolov4-obj.cfg /mydrive/YOLOv4_Mosaic_Dataset_v7/backup/yolov4-obj_last.weights -dont_show"
      ]
    },
    {
      "cell_type": "markdown",
      "metadata": {
        "id": "usWwgIuZv_Gd"
      },
      "source": [
        "# Paso 9: Revisión de la precisión"
      ]
    },
    {
      "cell_type": "code",
      "execution_count": null,
      "metadata": {
        "id": "ibXu5XSEwFOl"
      },
      "outputs": [],
      "source": [
        "!./darknet detector map data/obj.data cfg/yolov4-obj.cfg /mydrive/YOLOv4_Mosaic_Dataset_v7/backup/yolov4-obj_10000.weights"
      ]
    },
    {
      "cell_type": "markdown",
      "metadata": {
        "id": "BPHcMU0ZwSK9"
      },
      "source": [
        "# Paso 10: Pruebas de detección"
      ]
    },
    {
      "cell_type": "code",
      "execution_count": null,
      "metadata": {
        "id": "_U18D2l1wVmj"
      },
      "outputs": [],
      "source": [
        "# Se modifica el archivo de configuración .cfg para correr pruebas\n",
        "%cd cfg\n",
        "!sed -i 's/batch=64/batch=1/' yolov4-obj.cfg\n",
        "!sed -i 's/subdivisions=16/subdivisions=1/' yolov4-obj.cfg\n",
        "%cd .."
      ]
    },
    {
      "cell_type": "code",
      "execution_count": null,
      "metadata": {
        "id": "BJBP__s19afF"
      },
      "outputs": [],
      "source": [
        "# Se ejecuta detección\n",
        "!./darknet detector test data/obj.data cfg/yolov4-obj.cfg /mydrive/YOLOv4_Mosaic_Dataset_v7/backup/yolov4-obj_last.weights /mydrive/YOLOv4_Mosaic_Dataset_v7/IMG_316_masked.jpg -thresh 0.32\n",
        "imShow('predictions.jpg')"
      ]
    },
    {
      "cell_type": "code",
      "execution_count": null,
      "metadata": {
        "id": "sXWY_VoTwmGc"
      },
      "outputs": [],
      "source": [
        "# Se vuelve a modificar archivo .cfg para que se pueda reanudar entrenamiento\n",
        "%cd cfg\n",
        "!sed -i 's/batch=1/batch=64/' yolov4-obj.cfg\n",
        "!sed -i 's/subdivisions=1/subdivisions=16/' yolov4-obj.cfg\n",
        "%cd .."
      ]
    },
    {
      "cell_type": "markdown",
      "metadata": {
        "id": "YWTqTNRgwzOz"
      },
      "source": [
        "Fin del programa"
      ]
    }
  ],
  "metadata": {
    "accelerator": "GPU",
    "colab": {
      "provenance": []
    },
    "gpuClass": "standard",
    "kernelspec": {
      "display_name": "Python 3",
      "name": "python3"
    },
    "language_info": {
      "name": "python"
    }
  },
  "nbformat": 4,
  "nbformat_minor": 0
}