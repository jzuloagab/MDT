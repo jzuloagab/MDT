{
  "nbformat": 4,
  "nbformat_minor": 0,
  "metadata": {
    "colab": {
      "provenance": []
    },
    "kernelspec": {
      "name": "python3",
      "display_name": "Python 3"
    },
    "language_info": {
      "name": "python"
    },
    "accelerator": "GPU",
    "gpuClass": "standard"
  },
  "cells": [
    {
      "cell_type": "markdown",
      "source": [
        "# Cálculo de métricas de desempeño de un modelo YOLOv4\n",
        "\n",
        "* **Autor:** Julián Zuloaga\n",
        "* **Asignatura:** Memoria de Título\n",
        "---\n",
        "**Descripción:** Este notebook tiene como objetivo la generación de métricas de desempeño estándar para la evaluación de un modelo de YOLOv4 entrenado para el reconocimiento de expresiones faciales en multitudes.\n",
        "\n",
        "Las métricas obtenidas en este programa son:\n",
        "* Precision\n",
        "* Recall\n",
        "* Curva Precision Recall\n",
        "* mean Average Precision (mAP), Macro.\n",
        "* Matriz de Confusion\n",
        "* Curva ROC\n",
        "* AUC\n",
        "\n",
        "Se utiliza la biblioteca Scikit para la obtención de las métricas anteriormente mencionadas, para ello, se modifica el formato de los resultados de inferencia del modelo de YOLOv4 sobre el conjunto de testeo para adaptarlos al formato admitido por Scikit. Para considerar a aquellos casos en que el modelo detecta un falso positivo en el fondo, o cuando omite un rostro considerandolo como parte del fondo, se añade una clase *Background*. Notar que el dataset de testeo para evaluación está constituido por Custom Mosaics balanceados. (generado con *Balanceo_de_conjuntos_de_evaluacion_MDT.ipynb*)\n"
      ],
      "metadata": {
        "id": "DTUECm6gEmhF"
      }
    },
    {
      "cell_type": "markdown",
      "source": [
        "# Paso 1: Importar recursos básicos"
      ],
      "metadata": {
        "id": "RkpcSmiHKUEA"
      }
    },
    {
      "cell_type": "code",
      "source": [
        "# Se importan las librerías necesarias\n",
        "from tabulate import tabulate # librería para imprimir tablas y que queden bonitas\n",
        "import cv2 # Se importa OpenCV\n",
        "from google.colab.patches import cv2_imshow # Se importa visualizador de imágenes de OpenCV para Google Colab\n",
        "from collections import namedtuple # Se utiliza para definir rectángulos\n",
        "import numpy as np # para manejo de arreglos de Numpy\n",
        "import glob # para manejo de archivos y directorios\n",
        "import math # para manejo de funciones matemáticas\n",
        "from matplotlib.pyplot import figure # para modificar parámetros de los gráficos\n",
        "import matplotlib.pyplot as plt # para graficar curvas\n",
        "import pandas as pd # para manejo de dataframes\n",
        "import seaborn as sns\n",
        "from itertools import cycle # para graficar curvas con un conjunto definido de colores\n",
        "from sklearn.metrics import confusion_matrix # para generar matriz de confusión\n",
        "from sklearn.metrics import average_precision_score # para calcular mAP\n",
        "from sklearn.metrics import roc_curve # para graficar curva ROC\n",
        "from sklearn.metrics import auc #para calcular área bajo la curva ROC\n",
        "from sklearn.metrics import precision_recall_curve # para calcular la curva P-R"
      ],
      "metadata": {
        "id": "TrxtpV8ydlfM"
      },
      "execution_count": null,
      "outputs": []
    },
    {
      "cell_type": "code",
      "execution_count": null,
      "metadata": {
        "id": "1DITYDzECkct"
      },
      "outputs": [],
      "source": [
        "# Se clona el repositorio de Alexey Bochkovskiy con YOLOv4 y el framework Darknet\n",
        "!git clone https://github.com/AlexeyAB/darknet"
      ]
    },
    {
      "cell_type": "code",
      "source": [
        "# Se modifica el archivo makefile para habilitar el uso de GPU y OPENCV\n",
        "%cd darknet\n",
        "!sed -i 's/OPENCV=0/OPENCV=1/' Makefile\n",
        "!sed -i 's/GPU=0/GPU=1/' Makefile\n",
        "!sed -i 's/CUDNN=0/CUDNN=1/' Makefile\n",
        "!sed -i 's/CUDNN_HALF=0/CUDNN_HALF=1/' Makefile\n",
        "!sed -i 's/LIBSO=0/LIBSO=1/' Makefile"
      ],
      "metadata": {
        "id": "xYLE9WG7KhnB"
      },
      "execution_count": null,
      "outputs": []
    },
    {
      "cell_type": "code",
      "source": [
        "# Se verifica versión de CUDA\n",
        "!/usr/local/cuda/bin/nvcc --version"
      ],
      "metadata": {
        "id": "SnIa9g2iKiCA"
      },
      "execution_count": null,
      "outputs": []
    },
    {
      "cell_type": "code",
      "source": [
        "# Se decarga archivo personalizado de detector.c para generación de métricas para curva Precision-Recall.\n",
        "!wget --load-cookies /tmp/cookies.txt \"https://docs.google.com/uc?export=download&confirm=$(wget --quiet --save-cookies /tmp/cookies.txt --keep-session-cookies --no-check-certificate 'https://docs.google.com/uc?export=download&id=1hHRCnifbhAVt-6XlKKSaWN6sTEF_1fhs' -O- | sed -rn 's/.*confirm=([0-9A-Za-z_]+).*/\\1\\n/p')&id=1hHRCnifbhAVt-6XlKKSaWN6sTEF_1fhs\" -O /content/darknet/src/detector.c && rm -rf /tmp/cookies.txt"
      ],
      "metadata": {
        "id": "NVzEvzopIbqA"
      },
      "execution_count": null,
      "outputs": []
    },
    {
      "cell_type": "code",
      "source": [
        "# make darknet\n",
        "!make"
      ],
      "metadata": {
        "id": "xkMd7UlnKn0L"
      },
      "execution_count": null,
      "outputs": []
    },
    {
      "cell_type": "markdown",
      "source": [
        "# Paso 2: Importar el modelo de YOLOv4 entrenado para FER en multitudes"
      ],
      "metadata": {
        "id": "p-CQ0KBpjqdq"
      }
    },
    {
      "cell_type": "code",
      "source": [
        "# Se descarga pesos de modelo YOLOv4_mosaic_v8\n",
        "!wget --load-cookies /tmp/cookies.txt \"https://docs.google.com/uc?export=download&confirm=$(wget --quiet --save-cookies /tmp/cookies.txt --keep-session-cookies --no-check-certificate 'https://docs.google.com/uc?export=download&id=1PTrlol9-OGPe3lM7KJwcc-XA8seb3TtI' -O- | sed -rn 's/.*confirm=([0-9A-Za-z_]+).*/\\1\\n/p')&id=1PTrlol9-OGPe3lM7KJwcc-XA8seb3TtI\" -O /content/darknet/yolov4-obj_last.weights && rm -rf /tmp/cookies.txt\n",
        "# junto con sus archivos de configuración...\n",
        "!wget --load-cookies /tmp/cookies.txt \"https://docs.google.com/uc?export=download&confirm=$(wget --quiet --save-cookies /tmp/cookies.txt --keep-session-cookies --no-check-certificate 'https://docs.google.com/uc?export=download&id=1P643oZOIqsR6ETwviBSfciY5H7G1VJzU' -O- | sed -rn 's/.*confirm=([0-9A-Za-z_]+).*/\\1\\n/p')&id=1P643oZOIqsR6ETwviBSfciY5H7G1VJzU\" -O /content/darknet/cfg/yolov4-obj.cfg && rm -rf /tmp/cookies.txt\n",
        "!wget --load-cookies /tmp/cookies.txt \"https://docs.google.com/uc?export=download&confirm=$(wget --quiet --save-cookies /tmp/cookies.txt --keep-session-cookies --no-check-certificate 'https://docs.google.com/uc?export=download&id=1w3k0on_S-V75DF5cSz7L2-rXaOI6jG7D' -O- | sed -rn 's/.*confirm=([0-9A-Za-z_]+).*/\\1\\n/p')&id=1w3k0on_S-V75DF5cSz7L2-rXaOI6jG7D\" -O /content/darknet/data/obj.names && rm -rf /tmp/cookies.txt\n",
        "!wget --load-cookies /tmp/cookies.txt \"https://docs.google.com/uc?export=download&confirm=$(wget --quiet --save-cookies /tmp/cookies.txt --keep-session-cookies --no-check-certificate 'https://docs.google.com/uc?export=download&id=1-v8GQMFtzc74VSqCiTEJb2yREd3VxqPz' -O- | sed -rn 's/.*confirm=([0-9A-Za-z_]+).*/\\1\\n/p')&id=1-v8GQMFtzc74VSqCiTEJb2yREd3VxqPz\" -O /content/darknet/data/obj.data && rm -rf /tmp/cookies.txt\n",
        "!wget --load-cookies /tmp/cookies.txt \"https://docs.google.com/uc?export=download&confirm=$(wget --quiet --save-cookies /tmp/cookies.txt --keep-session-cookies --no-check-certificate 'https://docs.google.com/uc?export=download&id=1xxYdRcOdeNvmY-TS12e5xhoVOqQa06B4' -O- | sed -rn 's/.*confirm=([0-9A-Za-z_]+).*/\\1\\n/p')&id=1xxYdRcOdeNvmY-TS12e5xhoVOqQa06B4\" -O /content/darknet/generate_train.py && rm -rf /tmp/cookies.txt\n",
        "!wget --load-cookies /tmp/cookies.txt \"https://docs.google.com/uc?export=download&confirm=$(wget --quiet --save-cookies /tmp/cookies.txt --keep-session-cookies --no-check-certificate 'https://docs.google.com/uc?export=download&id=1f_-qrgYNpbSTM-S0mkemWOapAcOLV-L9' -O- | sed -rn 's/.*confirm=([0-9A-Za-z_]+).*/\\1\\n/p')&id=1f_-qrgYNpbSTM-S0mkemWOapAcOLV-L9\" -O /content/darknet/generate_test.py && rm -rf /tmp/cookies.txt\n",
        "# y datasets...\n",
        "# train: (no es necesario para realizar inferencias, por lo que se omite en este notebook)\n",
        "# testeo mosaico balanceado v1:\n",
        "!wget --load-cookies /tmp/cookies.txt \"https://docs.google.com/uc?export=download&confirm=$(wget --quiet --save-cookies /tmp/cookies.txt --keep-session-cookies --no-check-certificate 'https://docs.google.com/uc?export=download&id=1-4xLzCmvAnrneqsc3YfTnenZVt26xFFi' -O- | sed -rn 's/.*confirm=([0-9A-Za-z_]+).*/\\1\\n/p')&id=1-4xLzCmvAnrneqsc3YfTnenZVt26xFFi\" -O /content/darknet/test.zip && rm -rf /tmp/cookies.txt \n"
      ],
      "metadata": {
        "id": "oEhumqy0jwoE"
      },
      "execution_count": null,
      "outputs": []
    },
    {
      "cell_type": "code",
      "source": [
        "# Se descomprime el set de validación o testeo\n",
        "!unzip ./test.zip -d data/test #test.zip"
      ],
      "metadata": {
        "id": "bjARNQn9K9Yh"
      },
      "execution_count": null,
      "outputs": []
    },
    {
      "cell_type": "code",
      "source": [
        "# Se ejecutan los archivos recien subidos\n",
        "!python generate_test.py"
      ],
      "metadata": {
        "id": "gqBD-EDFLIGy"
      },
      "execution_count": null,
      "outputs": []
    },
    {
      "cell_type": "code",
      "source": [
        "# Se verifica que se haya generado el archivo test.txt\n",
        "!ls data/"
      ],
      "metadata": {
        "id": "5t6ESZ1uLJ1l"
      },
      "execution_count": null,
      "outputs": []
    },
    {
      "cell_type": "code",
      "source": [
        "# Se modifica el archivo de configuración .cfg para correr pruebas con mayor precision\n",
        "%cd cfg\n",
        "!sed -i 's/batch=64/batch=1/' yolov4-obj.cfg\n",
        "!sed -i 's/subdivisions=16/subdivisions=1/' yolov4-obj.cfg\n",
        "!sed -i 's/width=608/width=768/' yolov4-obj.cfg\n",
        "!sed -i 's/height=608/height=768/' yolov4-obj.cfg\n",
        "%cd .."
      ],
      "metadata": {
        "id": "6x5BHEUXLpzC"
      },
      "execution_count": null,
      "outputs": []
    },
    {
      "cell_type": "code",
      "source": [
        "# Se importan funciones del framework Darknet para realizar inferencias programáticamente por medio de Python\n",
        "# Leear archivo darknet.py para acceder a toda la documentación disponible.\n",
        "from darknet import *\n",
        "# se carga la red neuronal de nuestro modelo\n",
        "network, class_names, class_colors = load_network(\"cfg/yolov4-obj.cfg\", \"data/obj.data\", \"yolov4-obj_last.weights\")\n",
        "\n",
        "#En este caso, cargamos los archivos de nuestro modelo personalizado\n",
        "width = network_width(network)\n",
        "height = network_height(network)\n",
        "\n",
        "# esta función nos ayudará a realiar inferencias sobre imágenes más facilmente\n",
        "def darknet_helper(img, width, height, myclass_thresh):\n",
        "  darknet_image = make_image(width, height, 3)\n",
        "  img_rgb = cv2.cvtColor(img, cv2.COLOR_BGR2RGB)\n",
        "  img_resized = cv2.resize(img_rgb, (width, height),\n",
        "                              interpolation=cv2.INTER_LINEAR)\n",
        "\n",
        "  # se obtiene relación de aspecto de la imagen de entrada para obtener parámetros de bbox\n",
        "  img_height, img_width, _ = img.shape\n",
        "  width_ratio = img_width/width\n",
        "  height_ratio = img_height/height\n",
        "\n",
        "  # se ejecuta las inferencias utilizando el modelo cargado\n",
        "  copy_image_from_bytes(darknet_image, img_resized.tobytes())\n",
        "  detections = detect_image(network, class_names, darknet_image, thresh=myclass_thresh)\n",
        "  free_image(darknet_image)\n",
        "  return detections, width_ratio, height_ratio"
      ],
      "metadata": {
        "id": "7Xzprf42WJb2"
      },
      "execution_count": null,
      "outputs": []
    },
    {
      "cell_type": "code",
      "source": [
        "# Se define titulo de columnas de la matriz de confusión (Es decir, las clases)\n",
        "headers = ['Neutral', 'Happy', 'Sad', 'Surprise', 'Fear', 'Disgust', 'Anger','Contempt','Background']"
      ],
      "metadata": {
        "id": "BAfG4KsI9Xl8"
      },
      "execution_count": null,
      "outputs": []
    },
    {
      "cell_type": "code",
      "source": [
        "# se definen los colores de cada clase para los bounding boxes\n",
        "class_colors =  {'Neutral':  (250, 45, 0), #azul\n",
        "                 'Happy':    (0, 45, 250), #rojo\n",
        "                 'Sad':      (255, 249, 67), #amarillo\n",
        "                 'Surprise': (67, 252, 255), #celeste\n",
        "                 'Fear':     (132, 67, 255), #morado\n",
        "                 'Disgust':  (67, 255, 87), #verde\n",
        "                 'Anger':    (255, 67, 132), #rosado\n",
        "                 'Contempt': (250, 155, 34), #naranjo\n",
        "                 'Background': (0, 0, 0) # negro\n",
        "                 }"
      ],
      "metadata": {
        "id": "l9IHbQSlQath"
      },
      "execution_count": null,
      "outputs": []
    },
    {
      "cell_type": "code",
      "source": [
        "# Se define función auxiliar para detectar colisiones entre bounding boxes\n",
        "Rectangle = namedtuple('Rectangle', 'xmin ymin xmax ymax')\n",
        "def area(a, b):  # returns None if rectangles don't intersect\n",
        "    dx = min(a.xmax, b.xmax) - max(a.xmin, b.xmin)\n",
        "    dy = min(a.ymax, b.ymax) - max(a.ymin, b.ymin)\n",
        "    if (dx>=0) and (dy>=0):\n",
        "        return dx*dy\n",
        "    else:\n",
        "        return 0"
      ],
      "metadata": {
        "id": "kzX4nttiiqs6"
      },
      "execution_count": null,
      "outputs": []
    },
    {
      "cell_type": "code",
      "source": [
        "# Se define función auxiliar para convertir color de truple a formato hex\n",
        "def rgb_to_hex(rgb):\n",
        "    return '%02x%02x%02x' % rgb"
      ],
      "metadata": {
        "id": "82NbwNQ80czM"
      },
      "execution_count": null,
      "outputs": []
    },
    {
      "cell_type": "markdown",
      "source": [
        "# Paso 3: Generación de resultados de inferencia sobre set de evaluación\n",
        "\n",
        "\n"
      ],
      "metadata": {
        "id": "J6Sfwu9ZRbG7"
      }
    },
    {
      "cell_type": "markdown",
      "source": [
        "Para la obtención de las métricas de desempeño, primero es necesario contar con un conjunto de resultados de parte del modelo sobre un conjunto de evaluación. Dichos resultados serán trabajados como dos listas de Python, con los nombres y_pred (resultado de inferencia generado por el modelo) e y_test (ground thruth del set de testeo). Notar sin embargo, que los resultados de inferencia del modelo son tratado de manera distinta, dependiendo de la métrica siendo calculada, pero el procedimiento es similar en todos los casos."
      ],
      "metadata": {
        "id": "xr7C613vjJs6"
      }
    },
    {
      "cell_type": "code",
      "source": [
        "# se define umbral de confianza para predicción de clase\n",
        "class_thresh = 0.25\n",
        "\n",
        "# Se crea lista con registro de intersecciones entre rectángulos\n",
        "intersect_reg = list()\n",
        "detections_reg = list() ## esta lista estará en el formato que pide roc_curve() de Scikit\n",
        "conf_list = list() # lista con confianza de las detecciones en la imagen siendo procesada\n",
        "# Se crea lista con los rectángulos de inferencia de una imagen\n",
        "rectangulos_inf = list()\n",
        "# Se crea lista con rectángulos ground truth\n",
        "rectangulos_tru = list()\n",
        "# Se crea lista con las etiquetas de clase para cada rectángulo de inferencia\n",
        "label_inf = list()\n",
        "# Se crea lista con las etiquetas de clase para cada rectángulo ground truth\n",
        "label_tru = list()\n",
        "# Se crea lista con los nombres de las imágenes en el set de validación\n",
        "img_val_list = list()\n",
        "\n",
        "# Contadores\n",
        "process_counter = 0\n",
        "img_counter = 0\n",
        "rectangulos_tru_acum = 0\n",
        "\n",
        "# Se genera lista con las imágenes del set de validación (o testeo)\n",
        "img_val_list = [x for x in glob.glob(\"/content/darknet/data/test/*.jpg\")]\n",
        "\n",
        "# Se itera la lista de imágenes de validación (o testo)\n",
        "for img_addrs in img_val_list:\n",
        "  img_counter += 1 # se incrementa contador de imágenes procesadas\n",
        "  # Se abre imagen con opencv, necesario para realizar inferencia sobre ella\n",
        "  image = cv2.imread(img_addrs)\n",
        "  ############## 1) Se obtiene el ground truth de la imagen de validación a partir de su archivo de texto asociado\n",
        "  anotaciones = open(f'{img_addrs[:-4]}.txt')\n",
        "  parameters = anotaciones.readlines() # Se lee la línea con los parámetros del rostro\n",
        "  # se itera línea por línea de parámetros\n",
        "  for line in parameters:\n",
        "    separated_params = line.split(\" \")\n",
        "    x, y, w, h = (float(separated_params[1]), float(separated_params[2]), float(separated_params[3]), float(separated_params[4]))\n",
        "    x, y, w, h = int(x * 1024), int(y * 768), int(w * 1024), int(h * 768)\n",
        "    left, top, right, bottom = int(x-(w/2)), int(y-(h/2)), int(x+(w/2)), int(y+(h/2))\n",
        "    xmin = left\n",
        "    ymin = top\n",
        "    xmax = right\n",
        "    ymax = bottom\n",
        "    # Se genera rectángulo con coordenadas de ground truth\n",
        "    r1 = Rectangle(xmin,ymin,xmax,ymax) # xmin, ymin, xmax, ymax\n",
        "    # Se agrega a lista de rectángulos ground truth\n",
        "    rectangulos_tru.append(r1)\n",
        "    # Se agrega etiqueta de clase del rectángulo a la lista de etiquetas ground truth\n",
        "    label = headers[int(separated_params[0])]\n",
        "    label_tru.append(label)\n",
        "    # Se asigna confidence = 1 para el ground truth\n",
        "    confidence = 1\n",
        "  ############## 2) Se realiza inferencia sobre imágen de validación\n",
        "  detections, width_ratio, height_ratio = darknet_helper(image, width, height, class_thresh)\n",
        "  # Se itera sobre los resultados (clase, confianza y bbox) de la detección:\n",
        "  # Detections retorna (left_x, top_y, width, height), así que se calculan los parámetros para el rectángulo:\n",
        "  for label, confidence, bbox in detections:\n",
        "    left, top, right, bottom = bbox2points(bbox)\n",
        "    left, top, right, bottom = int(left * width_ratio), int(top * height_ratio), int(right * width_ratio), int(bottom * height_ratio)\n",
        "    xmin = left\n",
        "    ymin = top\n",
        "    xmax = right\n",
        "    ymax = bottom\n",
        "    # Se genera rectángulo\n",
        "    r1 = Rectangle(left,top,right,bottom) # xmin, ymin, xmax, ymax\n",
        "    # se agrega a la lista de rectángulos de inferencia de esta imagen\n",
        "    rectangulos_inf.append(r1)\n",
        "    # se agrega etiqueta de clase a lista de etiquetas de inferencia\n",
        "    label_inf.append(label)\n",
        "    # se agrega confianza de la inferencia a la lista\n",
        "    conf_list.append(confidence)\n",
        "  ############# 3) Se comparan los resultados de inferencia con el ground truth del mosaico\n",
        "  # se itera ambas listas de rectángulos ground truth\n",
        "  for i in range(0, len(rectangulos_tru)):\n",
        "    do_tru_intersect = False # se inicializa variable para verificar intersección entre rectángulos\n",
        "    for j in range(0, len(rectangulos_inf)): # se itera la lista de rectángulos inferidos\n",
        "      # Se calcula el area de intersección entre ambos rectángulos\n",
        "      intersec = area(rectangulos_inf[j],rectangulos_tru[i])\n",
        "      if intersec != 0: # si se detectó intersección entre áreas, se hace lo siguiente\n",
        "        do_tru_intersect = True # se cambia variable de verificación de intersección a verdadero\n",
        "        # Se calcula la unión del bbox ground truth y el bbox inferido\n",
        "        union_bbox = area(rectangulos_inf[j],rectangulos_inf[j]) + area(rectangulos_tru[i],rectangulos_tru[i]) - intersec\n",
        "        # Se calcula la intesercción sobre la unión (IOU)\n",
        "        iou_bbox = intersec/union_bbox\n",
        "        # Se guarda intersecciones en el registro\n",
        "        intersect_reg.append((rectangulos_inf[j], rectangulos_tru[i], iou_bbox, label_tru[i], label_inf[j]))\n",
        "        detections_reg.append((label_tru[i], label_inf[j], conf_list[j]))\n",
        "    # si no se detectó intersección, se hace lo siguiente\n",
        "    if do_tru_intersect == False:\n",
        "      # se agrega rectángulo al registro, como si estuviera intersectándo con el fondo (background)\n",
        "      intersect_reg.append((Rectangle(0,0,1,1), rectangulos_tru[i], 1, label_tru[i], \"Background\"))\n",
        "      detections_reg.append((label_tru[i], \"Background\", 1))\n",
        "\n",
        "  # Se itera lista de rectángulos inferidos\n",
        "  for i in range(0, len(rectangulos_inf)):\n",
        "    do_inf_intersect = False\n",
        "    # se itera lista de re´ctángulos ground truth\n",
        "    for j in range(0, len(rectangulos_tru)):\n",
        "      # se calcula área de intersección entre rectángulos\n",
        "      intersec = area(rectangulos_inf[i],rectangulos_tru[j])\n",
        "      if intersec != 0:\n",
        "        do_inf_intersect = True\n",
        "    # se verifica intersección\n",
        "    if do_inf_intersect == False:\n",
        "      # se agrega rectángulo al registro\n",
        "      intersect_reg.append((rectangulos_inf[i], Rectangle(0,0,1,1), 1, \"Background\", label_inf[i]))\n",
        "      detections_reg.append((\"Background\", label_inf[i], conf_list[i]))\n",
        "\n",
        "  # Se limpian las listas para que puedan ser usadas en el procesamiento de la siguiente imagen\n",
        "  rectangulos_tru_acum = rectangulos_tru_acum + len(rectangulos_tru)\n",
        "  rectangulos_inf.clear()\n",
        "  rectangulos_tru.clear()\n",
        "  label_inf.clear()\n",
        "  label_tru.clear()\n",
        "  conf_list.clear()\n",
        "  anotaciones.close()"
      ],
      "metadata": {
        "id": "yHLzZgjIR2mv"
      },
      "execution_count": null,
      "outputs": []
    },
    {
      "cell_type": "markdown",
      "source": [
        "# Paso 4: Matriz de Confusión"
      ],
      "metadata": {
        "id": "3Pk5l8QVjy8W"
      }
    },
    {
      "cell_type": "code",
      "source": [
        "# se generan listas con el ground truth del set de testeo y con las predicciones del modelo\n",
        "y_test = [x[3] for x in intersect_reg]\n",
        "y_pred = [x[4] for x in intersect_reg]"
      ],
      "metadata": {
        "id": "TE0kfmBMU2NU"
      },
      "execution_count": null,
      "outputs": []
    },
    {
      "cell_type": "code",
      "source": [
        "# Se crea una matriz de confusión que compara y_test e y_pred\n",
        "cm = confusion_matrix(y_test, y_pred, labels=headers, normalize='pred')\n",
        "# Se crea un dataframe para facilitar el graficado de la matriz de confusión\n",
        "myindex = [x for x in headers]\n",
        "mycolumns = [x for x in headers]\n",
        "cm_df = pd.DataFrame(cm,\n",
        "                     index = myindex, \n",
        "                     columns = mycolumns)\n",
        "# Se grafica la matriz de confusión\n",
        "plt.figure(figsize=(12,11))\n",
        "sns.heatmap(cm_df, annot=True, cmap=\"Blues\")\n",
        "plt.title(f'Confusion Matrix (conf_thresh {class_thresh*100}%)')\n",
        "plt.ylabel('Actual Values')\n",
        "plt.xlabel('Predicted Values')\n",
        "plt.show()"
      ],
      "metadata": {
        "id": "yRK0FN8DWOJC"
      },
      "execution_count": null,
      "outputs": []
    },
    {
      "cell_type": "markdown",
      "source": [
        "# Paso 5: Curva ROC"
      ],
      "metadata": {
        "id": "IcoMGreSj5qG"
      }
    },
    {
      "cell_type": "code",
      "source": [
        "# Se calcula el número de clases sin el background\n",
        "n_classes = len(headers)\n",
        "# Se inicializan arreglos de numpy para cargar los resultados obtenidos antes\n",
        "sep_y_test = np.zeros(shape = (len(detections_reg),n_classes), dtype = 'float')\n",
        "sep_y_pred = np.zeros(shape = (len(detections_reg),n_classes), dtype = 'float')\n",
        "# Se escriben resultados de inferencia y ground truth (confidence scores) a formato de la función roc_curve()\n",
        "for i in range(len(detections_reg)):\n",
        "  class_index_inf = headers.index(detections_reg[i][1])\n",
        "  class_index_tru = headers.index(detections_reg[i][0])\n",
        "  sep_y_pred[i, class_index_inf] = float(detections_reg[i][2])/100\n",
        "  sep_y_test[i, class_index_tru] = 1\n",
        "# Se calcula la curva ROC y su área para cada clase\n",
        "fpr = dict() # se inicializa diccionario para el false positive rate\n",
        "tpr = dict() # se inicializa diccionario para el true positive rate\n",
        "roc_auc = dict() # se inicializa diccionario para el área bajo la curva ROC\n",
        "# se calcula el FPR, TPR y AUC de manera iterativa para cada clase\n",
        "for i in range(n_classes):\n",
        "    fpr[i], tpr[i], out_thresh1 = roc_curve(y_true = sep_y_test[:, i], y_score = sep_y_pred[:, i], pos_label=1)\n",
        "    roc_auc[i] = auc(fpr[i], tpr[i])\n",
        "# Se calcula la curva ROC Micro average y su AUC\n",
        "fpr[\"micro\"], tpr[\"micro\"], out_thresh2 = roc_curve(sep_y_test.ravel(), sep_y_pred.ravel())\n",
        "roc_auc[\"micro\"] = auc(fpr[\"micro\"], tpr[\"micro\"])"
      ],
      "metadata": {
        "id": "lO67XJKOgdc8"
      },
      "execution_count": null,
      "outputs": []
    },
    {
      "cell_type": "code",
      "source": [
        "# Se grafica la curva ROC para todas las clases del modelo\n",
        "all_fpr = np.unique(np.concatenate([fpr[i] for i in range(n_classes)]))\n",
        "# Se interpolan todas las curvas ROC\n",
        "mean_tpr = np.zeros_like(all_fpr)\n",
        "for i in range(n_classes):\n",
        "    mean_tpr += np.interp(all_fpr, fpr[i], tpr[i])\n",
        "# Se calcula el Macro-Average y su AUC\n",
        "mean_tpr /= n_classes\n",
        "fpr[\"macro\"] = all_fpr\n",
        "tpr[\"macro\"] = mean_tpr\n",
        "roc_auc[\"macro\"] = auc(fpr[\"macro\"], tpr[\"macro\"])\n",
        "\n",
        "# Se calculan todas las curvas ROC\n",
        "plt.figure(figsize=(8,8), dpi=120)\n",
        "plt.plot(\n",
        "    fpr[\"micro\"],\n",
        "    tpr[\"micro\"],\n",
        "    label=\"micro-average ROC curve (area = {0:0.2f})\".format(roc_auc[\"micro\"]),\n",
        "    color=\"deeppink\",\n",
        "    linestyle=\":\",\n",
        "    linewidth=4,\n",
        ")\n",
        "\n",
        "plt.plot(\n",
        "    fpr[\"macro\"],\n",
        "    tpr[\"macro\"],\n",
        "    label=\"macro-average ROC curve (area = {0:0.2f})\".format(roc_auc[\"macro\"]),\n",
        "    color=\"navy\",\n",
        "    linestyle=\":\",\n",
        "    linewidth=4,\n",
        ")\n",
        "\n",
        "lw=2\n",
        "colors = cycle([\"aqua\", \"darkorange\", \"cornflowerblue\", \"red\", \"blue\", \"green\", \"brown\", \"purple\", \"yellow\"])\n",
        "for i, color in zip(range(n_classes), colors):\n",
        "    plt.plot(\n",
        "        fpr[i],\n",
        "        tpr[i],\n",
        "        color=color,\n",
        "        lw=lw,\n",
        "        label = f\"ROC curve of class {headers[i]} (area = {roc_auc[i]:0.2f})\"\n",
        "    )\n",
        "\n",
        "plt.plot([0, 1], [0, 1], \"k--\", lw=lw)\n",
        "plt.xlim([0.0, 1.0])\n",
        "plt.ylim([0.0, 1.05])\n",
        "plt.xlabel(\"False Positive Rate\")\n",
        "plt.ylabel(\"True Positive Rate\")\n",
        "plt.title(f\"ROC Curve (conf_thresh {class_thresh*100}%)\")\n",
        "plt.legend(loc=\"lower right\")\n",
        "plt.show()"
      ],
      "metadata": {
        "id": "EroXdupi6w9m"
      },
      "execution_count": null,
      "outputs": []
    },
    {
      "cell_type": "markdown",
      "source": [
        "# Paso 6: Curva Precision-Recall\n",
        "\n",
        "Para obtener la curva Precision-Recall, se ejecuta medición de precisión usando la instrucción de Darknet y se reunen los Precision y Recall para cada categoría obtenidos."
      ],
      "metadata": {
        "id": "qZbO-WWZs6GE"
      }
    },
    {
      "cell_type": "code",
      "source": [
        "# Medición de precisión sobre test.zip (default)\n",
        "!./darknet detector map data/obj.data cfg/yolov4-obj.cfg /content/darknet/yolov4-obj_last.weights -thresh 0.01"
      ],
      "metadata": {
        "id": "39vhdLubJaJb"
      },
      "execution_count": null,
      "outputs": []
    },
    {
      "cell_type": "code",
      "source": [
        "# Medición de precisión sobre test.zip (default)\n",
        "!./darknet detector map data/obj.data cfg/yolov4-obj.cfg /content/darknet/yolov4-obj_last.weights -thresh 0.10"
      ],
      "metadata": {
        "id": "1UEk4O2QJf7Z"
      },
      "execution_count": null,
      "outputs": []
    },
    {
      "cell_type": "code",
      "source": [
        "# Medición de precisión sobre test.zip (default)\n",
        "!./darknet detector map data/obj.data cfg/yolov4-obj.cfg /content/darknet/yolov4-obj_last.weights -thresh 0.20"
      ],
      "metadata": {
        "id": "LnruPYoUJg8R"
      },
      "execution_count": null,
      "outputs": []
    },
    {
      "cell_type": "code",
      "source": [
        "# Medición de precisión sobre test.zip (default)\n",
        "!./darknet detector map data/obj.data cfg/yolov4-obj.cfg /content/darknet/yolov4-obj_last.weights -thresh 0.30"
      ],
      "metadata": {
        "id": "mNdRPU-tJiSI"
      },
      "execution_count": null,
      "outputs": []
    },
    {
      "cell_type": "code",
      "source": [
        "# Medición de precisión sobre test.zip (default)\n",
        "!./darknet detector map data/obj.data cfg/yolov4-obj.cfg /content/darknet/yolov4-obj_last.weights -thresh 0.40"
      ],
      "metadata": {
        "id": "lhT4cR8WJiYa"
      },
      "execution_count": null,
      "outputs": []
    },
    {
      "cell_type": "code",
      "source": [
        "# Medición de precisión sobre test.zip (default)\n",
        "!./darknet detector map data/obj.data cfg/yolov4-obj.cfg /content/darknet/yolov4-obj_last.weights -thresh 0.50"
      ],
      "metadata": {
        "id": "n4l1GIB8Jj7x"
      },
      "execution_count": null,
      "outputs": []
    },
    {
      "cell_type": "code",
      "source": [
        "# Medición de precisión sobre test.zip (default)\n",
        "!./darknet detector map data/obj.data cfg/yolov4-obj.cfg /content/darknet/yolov4-obj_last.weights -thresh 0.60"
      ],
      "metadata": {
        "id": "zjoJEYDwJlRR"
      },
      "execution_count": null,
      "outputs": []
    },
    {
      "cell_type": "code",
      "source": [
        "# Medición de precisión sobre test.zip (default)\n",
        "!./darknet detector map data/obj.data cfg/yolov4-obj.cfg /content/darknet/yolov4-obj_last.weights -thresh 0.70"
      ],
      "metadata": {
        "id": "xCvhLUQ2JmHU"
      },
      "execution_count": null,
      "outputs": []
    },
    {
      "cell_type": "code",
      "source": [
        "# Medición de precisión sobre test.zip (default)\n",
        "!./darknet detector map data/obj.data cfg/yolov4-obj.cfg /content/darknet/yolov4-obj_last.weights -thresh 0.80"
      ],
      "metadata": {
        "id": "JG13a2ADJnHg"
      },
      "execution_count": null,
      "outputs": []
    },
    {
      "cell_type": "code",
      "source": [
        "# Medición de precisión sobre test.zip (default)\n",
        "!./darknet detector map data/obj.data cfg/yolov4-obj.cfg /content/darknet/yolov4-obj_last.weights -thresh 0.90"
      ],
      "metadata": {
        "id": "0t5ayMclJoEy"
      },
      "execution_count": null,
      "outputs": []
    },
    {
      "cell_type": "code",
      "source": [
        "# Medición de precisión sobre test.zip (default)\n",
        "!./darknet detector map data/obj.data cfg/yolov4-obj.cfg /content/darknet/yolov4-obj_last.weights -thresh 0.99"
      ],
      "metadata": {
        "id": "EAJIdhGiJo7y"
      },
      "execution_count": null,
      "outputs": []
    },
    {
      "cell_type": "markdown",
      "source": [
        "Si se grafican los resultados obtenidos anteriormente, se obtiene la siguiente curva Precision Recall para el modelo, considerando thresh_conf entre {0.01 y 0.99}."
      ],
      "metadata": {
        "id": "AcUQygMBgNZZ"
      }
    },
    {
      "cell_type": "markdown",
      "source": [
        "![image.png](data:image/png;base64,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)"
      ],
      "metadata": {
        "id": "4RTh0JIggIL3"
      }
    },
    {
      "cell_type": "markdown",
      "source": [
        "# Paso 7: Cálculo de mAP\n",
        "\n",
        "Una manera de resumir las curvas Precision Recall obtenidas en el paso 6 es por medio del cálculo del área bajo cada curva. Si se promedian estas áreas, se obtiene el parámetro mean Average Precision (mAP)."
      ],
      "metadata": {
        "id": "5XCeAbLmefnd"
      }
    },
    {
      "cell_type": "code",
      "source": [
        "# En base a lo obtenido en el paso 6, se tiene:\n",
        "ap_neutral = 76.94\n",
        "ap_happy = 96.4\n",
        "ap_sad = 62.14\n",
        "ap_surprise = 55.85\n",
        "ap_fear = 51.13 \n",
        "ap_disgust = 34.48\n",
        "ap_anger = 60.57\n",
        "ap_contempt = 15.80\n",
        "\n",
        "mAP = ap_neutral + ap_happy + ap_sad + ap_surprise + ap_fear + ap_disgust + ap_anger + ap_contempt\n",
        "mAP = mAP/8\n",
        "\n",
        "print(f\"mAP del modelo: {mAP}\")"
      ],
      "metadata": {
        "id": "7nxVRzDae4b1"
      },
      "execution_count": null,
      "outputs": []
    }
  ]
}