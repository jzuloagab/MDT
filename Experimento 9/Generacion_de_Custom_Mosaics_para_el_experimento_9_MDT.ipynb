{
  "nbformat": 4,
  "nbformat_minor": 0,
  "metadata": {
    "colab": {
      "provenance": []
    },
    "kernelspec": {
      "name": "python3",
      "display_name": "Python 3"
    },
    "language_info": {
      "name": "python"
    }
  },
  "cells": [
    {
      "cell_type": "markdown",
      "source": [
        "# Generación de Custom Mosaics para el experimento 9\n",
        "* **Autor:** Julián Zuloaga\n",
        "* **Asignatura:** Memoria de Título\n",
        "* **Fecha:** 11 de octubre de 2022\n",
        "---"
      ],
      "metadata": {
        "id": "88ymJeICmN9s"
      }
    },
    {
      "cell_type": "markdown",
      "source": [
        "**Descripción:** Este programa sirve para generar Custom Mosaics similares a una multitud con las imágenes de la base de datos AffectNet en formato YOLOv4. Además:\n",
        "* Se agregaron ejemplos negativos, 10 por mosaico, con Horizontal Flip.\n",
        "* Se puso 7 rostros en 3 distintas resoluciones por mosaico."
      ],
      "metadata": {
        "id": "QGM53jrcmSSz"
      }
    },
    {
      "cell_type": "markdown",
      "source": [
        "## Paso 1: Carga de recursos necesarios\n",
        "\n",
        "Para el funcionamiento de este programa es necesario importar algunas librerías, crear algunos directorios, descargar algunos archivos, entre otros."
      ],
      "metadata": {
        "id": "Z6mIjcpjVCzG"
      }
    },
    {
      "cell_type": "code",
      "source": [
        "# Se importan librerías\n",
        "from IPython.display import clear_output # limpia salida\n",
        "import os # manejo de directorios\n",
        "import random # para funciones de randomizado\n",
        "from PIL import Image, ImageDraw # para manejo de imágenes\n",
        "import numpy as np # manejo de arrays de numpy\n",
        "from google.colab.patches import cv2_imshow # para mostrar imágen generada\n",
        "import cv2 # para visualización y agregar texto\n",
        "import PIL"
      ],
      "metadata": {
        "id": "LUown8X9FxTm"
      },
      "execution_count": null,
      "outputs": []
    },
    {
      "cell_type": "code",
      "source": [
        "# Se crean carpetas donde se descargará la base de datos (obj.zip y test.zip)\n",
        "!mkdir -v ./AffectNet_dataset\n",
        "!mkdir -v ./Ejemplos_negativos"
      ],
      "metadata": {
        "id": "tOGkTciHQBo3"
      },
      "execution_count": null,
      "outputs": []
    },
    {
      "cell_type": "code",
      "source": [
        "# Se monta unidad de google drive a la máquina virtual de Colab\n",
        "%cd ..\n",
        "from google.colab import drive\n",
        "drive.mount('/content/gdrive')"
      ],
      "metadata": {
        "id": "8igc0TAkM9JH"
      },
      "execution_count": null,
      "outputs": []
    },
    {
      "cell_type": "code",
      "source": [
        "# Se crea un symbolic link para reemplazar \"/content/gdrive/My\\ Drive/\" a \"/mydrive\"\n",
        "!ln -s /content/gdrive/My\\ Drive/ /mydrive"
      ],
      "metadata": {
        "id": "qpgwqmcvNevy"
      },
      "execution_count": null,
      "outputs": []
    },
    {
      "cell_type": "code",
      "source": [
        "# Se va a la carpeta /content/\n",
        "%cd /content/"
      ],
      "metadata": {
        "id": "gYKeuYvaPPKt"
      },
      "execution_count": null,
      "outputs": []
    },
    {
      "cell_type": "code",
      "execution_count": null,
      "metadata": {
        "id": "HBmeDQwEN9sK"
      },
      "outputs": [],
      "source": [
        "# Se copia la base de datos AffectNet en formato YOLOv4 desde GDrive a Colab.\n",
        "!cp /mydrive/Proc_AffectNet_YOLOv4_v1/obj.zip ./AffectNet_dataset/obj.zip\n",
        "!cp /mydrive/Proc_AffectNet_YOLOv4_v1/test.zip ./AffectNet_dataset/test.zip\n",
        "# Se descargan los ejemplos negativos:\n",
        "!wget --load-cookies /tmp/cookies.txt \"https://docs.google.com/uc?export=download&confirm=$(wget --quiet --save-cookies /tmp/cookies.txt --keep-session-cookies --no-check-certificate 'https://docs.google.com/uc?export=download&id=1377C02YttAOMGNwyZjkK78M_2wPTGU8q' -O- | sed -rn 's/.*confirm=([0-9A-Za-z_]+).*/\\1\\n/p')&id=1377C02YttAOMGNwyZjkK78M_2wPTGU8q\" -O ./Ejemplos_negativos/obj.zip && rm -rf /tmp/cookies.txt\n",
        "# Se verifica descarga correcta\n",
        "check1 = os.path.isfile('./AffectNet_dataset/obj.zip')\n",
        "check2 = os.path.isfile('./AffectNet_dataset/test.zip')\n",
        "if check1 == True and check2 == True:\n",
        "  print(\"[INFO]: Base de datos descargada correctamente.\")\n",
        "else:\n",
        "  print(\"[ERROR]: La base de datos no se ha descargado correctamente!\")\n",
        "  assert False"
      ]
    },
    {
      "cell_type": "code",
      "source": [
        "# Se descomprime los archivos zip de la base de datos\n",
        "!mkdir /content/AffectNet_dataset/obj/\n",
        "!mkdir /content/AffectNet_dataset/test/\n",
        "!unzip -q ./AffectNet_dataset/obj.zip -d ./AffectNet_dataset/obj/\n",
        "!unzip -q ./AffectNet_dataset/test.zip -d ./AffectNet_dataset/test/\n",
        "# Se descomprime archivo .zip con ejemplos negativos\n",
        "!unzip -q ./Ejemplos_negativos/obj.zip -d ./Ejemplos_negativos/\n",
        "# Se borran los archivos comprimidos\n",
        "!rm ./AffectNet_dataset/obj.zip\n",
        "!rm ./AffectNet_dataset/test.zip\n",
        "# Una vez descomprimidos los archivos, se borra el archivo .zip\n",
        "!rm ./Ejemplos_negativos/obj.zip"
      ],
      "metadata": {
        "id": "Bt4MGrRKV4Br"
      },
      "execution_count": null,
      "outputs": []
    },
    {
      "cell_type": "code",
      "source": [
        "# Se aplica volveo horizontal a los ejemplos negativos\n",
        "from PIL import Image, ImageOps\n",
        "import PIL\n",
        "import glob\n",
        "img_list_ejemp = [x for x in glob.glob(\"/content/Ejemplos_negativos/*.jpg\")]\n",
        "img_list_ejemp.sort() # se ordena la lista, aunque no es necesario\n",
        "contador = 0 # contador para evitar nombres repetidos\n",
        "for neg_img in img_list_ejemp:\n",
        "  this_img = Image.open(neg_img) # se abre imagen de ejemplo negativo\n",
        "  this_img_mirror=ImageOps.mirror(this_img) # se aplica horizontal flip\n",
        "  this_img_mirror.save(f\"/content/Ejemplos_negativos/flip_{contador}.jpg\") # se guarda imagen volteada\n",
        "  this_img.close() # se cierra imagen\n",
        "  this_img_mirror.close() # se cierra imagen con horizontal flip\n",
        "  contador += 1 # se incrementa contador"
      ],
      "metadata": {
        "id": "9P9Dk6kedPVm"
      },
      "execution_count": null,
      "outputs": []
    },
    {
      "cell_type": "markdown",
      "source": [
        "## Paso 2: Generación de imágenes con Data Augmentation\n",
        "En esta sección se generan las imágenes de mosaicos."
      ],
      "metadata": {
        "id": "wQKmHunUE6r2"
      }
    },
    {
      "cell_type": "markdown",
      "source": [
        "### 2.1. Se desordenan las imágenes\n",
        "Se crea una lista con todas las imágenes de conjunto de entrenamiento y se reordena de manera pseudo-aleatoria para que las imágenes no se ordenen por clase durante la generación de los mosaicos."
      ],
      "metadata": {
        "id": "2iu_mSazGcHv"
      }
    },
    {
      "cell_type": "code",
      "source": [
        "# Se genera lista con nombres de archivos en conjunto de entrenamiento\n",
        "obj_img_list = list() # se inicializa lista para imágenes\n",
        "# Se agregan los nombres de las imágenes a la lista\n",
        "for file in os.listdir(\"./AffectNet_dataset/obj/\"):\n",
        "    if file.endswith(\".jpg\"):\n",
        "        obj_img_list.append(file)\n",
        "# Se imprime número de imágenes encontradas en conjunto de entrenamiento\n",
        "print(f'[INFO]: Número de imágenes encontradas en set de entrenamiento: {len(obj_img_list)}')\n",
        "# Se reordena la lista con nombres de manera aleatoria\n",
        "random.seed(0) # se genera semilla para obtener siempre el mismo resultado\n",
        "random.shuffle(obj_img_list) # se reordena la lista de manera aleatoria"
      ],
      "metadata": {
        "id": "BjhG3XuaE5bu"
      },
      "execution_count": null,
      "outputs": []
    },
    {
      "cell_type": "code",
      "source": [
        "# Se genera lista con nombres de archivos en conjunto de ejemplos negativos\n",
        "neg_img_list = list() # se inicializa lista de imágenes\n",
        "# Se agergan los nombres de las imágenes a la lista\n",
        "for file in os.listdir(\"./Ejemplos_negativos/\"):\n",
        "  if file.endswith(\".jpg\"):\n",
        "    neg_img_list.append(file)\n",
        "\n",
        "# Se imprime número de imágenes encontradas en conjunto de ejemplos negativos\n",
        "print(f'[INFO]: Número de imágenes encontradas en set de ejemplos negativos: {len(neg_img_list)}')\n",
        "# Se reordena la lista con nombres de manera aleatoria\n",
        "random.seed(0) # se genera semilla para obtener siempre el mismo resultado\n",
        "random.shuffle(neg_img_list) # se reordena la lista de manera aleatoria"
      ],
      "metadata": {
        "id": "wSsn9gO2e9Wz"
      },
      "execution_count": null,
      "outputs": []
    },
    {
      "cell_type": "markdown",
      "source": [
        "### 2.2. Se selecciona imágenes y se calcula sus parámetros"
      ],
      "metadata": {
        "id": "OnQnjB9XOGIE"
      }
    },
    {
      "cell_type": "code",
      "source": [
        "# Se define función auxiliar para detectar colisiones entre imágenes\n",
        "from collections import namedtuple\n",
        "Rectangle = namedtuple('Rectangle', 'xmin ymin xmax ymax')\n",
        "def area(a, b):  # returns None if rectangles don't intersect\n",
        "    dx = min(a.xmax, b.xmax) - max(a.xmin, b.xmin)\n",
        "    dy = min(a.ymax, b.ymax) - max(a.ymin, b.ymin)\n",
        "    if (dx>=0) and (dy>=0):\n",
        "        return dx*dy"
      ],
      "metadata": {
        "id": "B3S_tvLYnCe8"
      },
      "execution_count": null,
      "outputs": []
    },
    {
      "cell_type": "code",
      "source": [
        "# Se crea contador para llevar cuenta del número de imágenes restantes en el conjunto de entrenamiento\n",
        "img_restantes = len(obj_img_list)\n",
        "# Se establece número de imágenes por mosaico\n",
        "n_img_por_mosaico = 7 # este valor debe ser ingresado por el usuario\n",
        "# Se establece resolución de imagen de salida\n",
        "res_mosaico = [1024,768] # [width, height]\n",
        "# Aplicar máscara?\n",
        "do_Mask = True"
      ],
      "metadata": {
        "id": "JIDV4z9cO6nU"
      },
      "execution_count": null,
      "outputs": []
    },
    {
      "cell_type": "code",
      "source": [
        "# Se crea carpeta donde se guardará la nueva base de datos\n",
        "!mkdir ./Mosaic_Dataset/\n",
        "%cd ./Mosaic_Dataset/\n",
        "!mkdir ./obj/\n",
        "!mkdir ./test/"
      ],
      "metadata": {
        "id": "g7noZ6qSGB9X"
      },
      "execution_count": null,
      "outputs": []
    },
    {
      "cell_type": "markdown",
      "source": [
        "### 2.3. Procesamiento conjunto de entrenamiento\n",
        "\n",
        "Se genera la nueva base de datos para entrenamiento en base al conjunto pre definido en la base de datos descargada (archivo obj.zip)"
      ],
      "metadata": {
        "id": "PoecOougGi9h"
      }
    },
    {
      "cell_type": "code",
      "source": [
        "# Se cambia directorio para generación de conjunto de entrenamiento.\n",
        "%cd ./obj/"
      ],
      "metadata": {
        "id": "1CPvIeVoGiZH"
      },
      "execution_count": null,
      "outputs": []
    },
    {
      "cell_type": "code",
      "source": [
        "# Se detiene ejecución automática de celdas\n",
        "assert False"
      ],
      "metadata": {
        "id": "2nx69UoHR_qh"
      },
      "execution_count": null,
      "outputs": []
    },
    {
      "cell_type": "code",
      "source": [
        "from IPython.core.display import Javascript\n",
        "# Se definen tamaños máximos y mínimos para las imágenes de rostros\n",
        "max_face_res = [90, 90] # [ancho, alto]\n",
        "min_face_res = [25, 25] # [ancho, alto]\n",
        "# Proporción de imagenes por grupo:\n",
        "size_L = 0.1                    # grupo grande\n",
        "size_M = 0.32                   # grupo mediano\n",
        "size_S = (1 - size_L - size_M)  # grupo pequeño\n",
        "# Se calcula el número de imágenes para la proporción definida\n",
        "n_L = 1\n",
        "n_M = 1\n",
        "n_S = 1\n",
        "# Proporción del fondo por sección (S, M, L)\n",
        "b_size_L = 0.3\n",
        "b_size_M = 0.3\n",
        "b_size_S = (1 - b_size_L - b_size_M)\n",
        "# Se calcula el número de píxels verticales del fondo que corresponde a cada proporción\n",
        "b_L = int(b_size_L*res_mosaico[1])\n",
        "b_M = int(b_size_M*res_mosaico[1])\n",
        "b_S = res_mosaico[1] - b_L - b_M\n",
        "\n",
        "# Se inicializa lista con registro de coordenadas\n",
        "img_reg = list()\n",
        "neg_img_counter = 0\n",
        "\n",
        "# Se inicializa variable contadora de imágenes generadas\n",
        "j = 0\n",
        "# Se comienza con la generación de imágenes \n",
        "while j < len(obj_img_list):\n",
        "\n",
        "  # se crea archivo de texto para guardar anotaciones (etiqueta)\n",
        "  background_label = open(f'{j}.txt', 'w')\n",
        "\n",
        "  # Se crea fondo negro\n",
        "  background = Image.new('RGB', res_mosaico, (0, 0, 0))\n",
        "\n",
        "  #--------------------EJEMPLOS NEGATIVOS------------------------------------------------------------------\n",
        "  # Se define número de ejemplos negativos a agregar por mosaico generado\n",
        "  n_ejem_neg_por_mosaic = 10\n",
        "\n",
        "  # Se inicializa lista con registro de vértices de imágenes ya colocadas\n",
        "  img_reg = [(0, 0, 2, 2)]\n",
        "\n",
        "  # Se agregan los ejemplos negativos de manera aleatória\n",
        "  for ji in range(n_ejem_neg_por_mosaic):\n",
        "    # si el contador igualó o sobrepasó el máximo, se reinicia\n",
        "    if ji+neg_img_counter >= len(neg_img_list): neg_img_counter = 0\n",
        "    # Se abre imagen de ejemplo negativo a agregar\n",
        "    ejem_neg = Image.open(f'/content/Ejemplos_negativos/{neg_img_list[ji + neg_img_counter]}')\n",
        "    \n",
        "    do_intersect = True # variable de verificación\n",
        "    # Se genera posición nueva y se verifica la no intersección\n",
        "    while do_intersect:\n",
        "        # Se genera propuesta de coordenadas aleatoriamente\n",
        "        neg_pos_x = random.randint(0, res_mosaico[0])\n",
        "        neg_pos_y = random.randint(0, b_S + b_M)\n",
        "        # Se define vértice inferior derecho de la img\n",
        "        v_inf_der = (neg_pos_x, neg_pos_y)\n",
        "        # Se calcula el vértice superior izquierdo de la img\n",
        "        v_sup_izq = (neg_pos_x - ejem_neg.size[0], neg_pos_y - ejem_neg.size[1])\n",
        "        # Se define padding adicional a la imagen\n",
        "        padding = 4 # píxeles\n",
        "        # Se detecta intersección entre otras imágenes\n",
        "        c2 = (v_sup_izq[0] - padding, v_sup_izq[1] - padding, v_inf_der[0] + padding , v_inf_der[1] + padding)\n",
        "        d2 = Rectangle(c2[0],c2[1],c2[2],c2[3])\n",
        "        for old_coord in img_reg:\n",
        "          c1 = np.asarray(old_coord)\n",
        "          d1 = Rectangle(c1[0],c1[1],c1[2],c1[3])\n",
        "          #Se evalúa si la intersección entre ambas imágenes es distinto de vacío\n",
        "          if area(d1,d2) is None:\n",
        "            do_intersect = False # No se detectó intersección\n",
        "          else:\n",
        "            do_intersect = True # Se detectó intersección\n",
        "            n_colisiones = n_colisiones + 1\n",
        "            break # se detiene ciclo for y se vuelve a generar coordenadas\n",
        "        # Una vez se verifició que no hay colisión, se guarda coordenadas en registro\n",
        "        #img_reg.append(c2)\n",
        "\n",
        "    # Se agrega el ejemplo negativo al fondo\n",
        "    background.paste(ejem_neg, (neg_pos_x, neg_pos_y))\n",
        "    # Se cierra imagen abierta con ejemplo negativo\n",
        "    ejem_neg.close()\n",
        "  \n",
        "  # se agrega el número de ejemplos negatios agregados al contador\n",
        "  neg_img_counter = neg_img_counter + n_ejem_neg_por_mosaic\n",
        "  #-----------------------EJEMPLOS NEGATIVOS--------------------------------------------------------------\n",
        "\n",
        "  # Contador de colisiones\n",
        "  n_colisiones = 0\n",
        "  # Se verifica si se llegó a las últimas imágenes\n",
        "  if (len(obj_img_list) - j) < n_img_por_mosaico:\n",
        "    n_img_por_mosaico = len(obj_img_list) - j # se reduce número de rostros por imagen generada\n",
        "  \n",
        "  # Se agregan las fotos con rostros al fondo\n",
        "  for i in range(n_img_por_mosaico):\n",
        "    # Se abre imagen con rostro\n",
        "    face = Image.open(f'/content/AffectNet_dataset/obj/{obj_img_list[i+j]}')\n",
        "\n",
        "    for ii in range(3):\n",
        "      if ii < n_L:\n",
        "        # número de imágenes por sección\n",
        "        n_img = n_L\n",
        "        # tamaño máximo y mínimo para cada rostro reescalado\n",
        "        xface_min = 2*int((max_face_res[0] - min_face_res[0])/3) + min_face_res[0]\n",
        "        xface_max = max_face_res[0]\n",
        "        yface_min = 2*int((max_face_res[1] - min_face_res[1])/3) + min_face_res[1]\n",
        "        yface_max = max_face_res[1]\n",
        "        # posición vertical mínima y máxima admitida\n",
        "        y_min = (res_mosaico[1] - b_L)\n",
        "        y_max = (res_mosaico[1] - yface_max)\n",
        "        # posición horizontal mínima y máxima admitida\n",
        "        x_min = 0\n",
        "        x_max = res_mosaico[0]-xface_max\n",
        "\n",
        "      elif ii >= n_L and ii < (n_M + n_L): \n",
        "        # número de imágenes por sección\n",
        "        n_img = n_M\n",
        "        # tamaño máximo y mínimo para cada rostro reescalado\n",
        "        xface_min = int((max_face_res[0] - min_face_res[0])/3) + min_face_res[0]\n",
        "        xface_max = 2*int((max_face_res[0] - min_face_res[0])/3) + min_face_res[0]\n",
        "        yface_min = int((max_face_res[1] - min_face_res[1])/3) + min_face_res[1]\n",
        "        yface_max = 2*int((max_face_res[1] - min_face_res[1])/3) + min_face_res[1]\n",
        "        # posición vertical mínima y máxima admitida\n",
        "        y_min = (res_mosaico[1] - b_L - b_M)\n",
        "        y_max = (res_mosaico[1] - b_L - yface_max)\n",
        "        # posición horizontal mínima y máxima admitida\n",
        "        x_min = 0\n",
        "        x_max = res_mosaico[0]-xface_max\n",
        "\n",
        "      else:\n",
        "        # número de imágenes por sección\n",
        "        n_img = n_S\n",
        "        # tamaño máximo y mínimo para cada rostro reescalado\n",
        "        xface_min = min_face_res[0]\n",
        "        xface_max = int((max_face_res[0] - min_face_res[0])/3) + min_face_res[0]\n",
        "        yface_min = min_face_res[1]\n",
        "        yface_max = int((max_face_res[1] - min_face_res[1])/3) + min_face_res[1]\n",
        "        # posición vertical mínima y máxima admitida\n",
        "        y_min = 0\n",
        "        y_max = (res_mosaico[1] - b_L - b_M - yface_max)\n",
        "        # posición horizontal mínima y máxima admitida\n",
        "        x_min = 0\n",
        "        x_max = res_mosaico[0]-xface_max\n",
        "\n",
        "      # Se calcula nueva dimensión de imagen con rostro\n",
        "      new_x_size = random.randint(xface_min, xface_max)\n",
        "      #new_y_size = random.randint(yface_min, yface_max) # se pierde aspect ratio :(\n",
        "      #Se calcula el alto para conservar aspect ratio\n",
        "      wpercent = (new_x_size/float(face.size[0]))\n",
        "      new_y_size = int((float(face.size[1])*float(wpercent)))\n",
        "      # Se escala la imagen seleccionada\n",
        "      face = face.resize((new_x_size, new_y_size), resample=PIL.Image.BILINEAR)\n",
        "      # Se calcula posición de la imagen asegurando la no intersección con imágenes anteriores\n",
        "      do_intersect = True # variable de verificación\n",
        "      # Se genera posición nueva y se verifica la no intersección\n",
        "      while do_intersect:\n",
        "        # generación de coordenadas nuevas\n",
        "        new_x_pos = random.randint(x_min, x_max)\n",
        "        new_y_pos = random.randint(y_min, y_max)\n",
        "        # Se define vértice inferior derecho de la img\n",
        "        v_inf_der = (new_x_pos, new_y_pos)\n",
        "        # Se calcula el vértice superior izquierdo de la img\n",
        "        v_sup_izq = (new_x_pos - new_x_size, new_y_pos - new_y_size)\n",
        "\n",
        "        # Se define padding adicional a la imagen\n",
        "        padding = 4 # píxeles\n",
        "\n",
        "        # Se detecta intersección entre otras imágenes\n",
        "        c2 = (v_sup_izq[0] - padding, v_sup_izq[1] - padding, v_inf_der[0] + padding , v_inf_der[1] + padding)\n",
        "        d2 = Rectangle(c2[0],c2[1],c2[2],c2[3])\n",
        "        for old_coord in img_reg:\n",
        "          c1 = np.asarray(old_coord)\n",
        "          d1 = Rectangle(c1[0],c1[1],c1[2],c1[3])\n",
        "          #Se evalúa si la intersección entre ambas imágenes es distinto de vacío\n",
        "          if area(d1,d2) is None:\n",
        "            do_intersect = False # No se detectó intersección\n",
        "          else:\n",
        "            do_intersect = True # Se detectó intersección\n",
        "            n_colisiones = n_colisiones + 1\n",
        "            break # se detiene ciclo for y se vuelve a generar coordenadas\n",
        "\n",
        "      # Una vez se verifició que no hay colisión, se guarda coordenadas en registro\n",
        "      img_reg.append(c2)\n",
        "\n",
        "      # Se agrega máscara circular si do_Mask es True\n",
        "      if do_Mask:\n",
        "        #Se aplica máscara circular\n",
        "        lum_img = Image.new('L',[new_x_size,new_y_size] ,0) \n",
        "        draw = ImageDraw.Draw(lum_img)\n",
        "        draw.pieslice([(0,0),(new_x_size,new_y_size)],0,360,fill=255)\n",
        "        # Se pega la imagen en el fondo\n",
        "        background.paste(face, (new_x_pos, new_y_pos),lum_img)\n",
        "\n",
        "      # Se abre archivo de texto del respectivo rostro\n",
        "      label_name = f\"{obj_img_list[i+j]}\"\n",
        "      #print(f\"label_name = {label_name[:-4]}.txt\")\n",
        "      face_label = open(f'/content/AffectNet_dataset/obj/{label_name[:-4]}.txt','r')\n",
        "      parameters = face_label.readlines() # Se lee la línea con los parámetros del rostro\n",
        "      parameters = parameters[0].split(\" \") # Se separan los parámetros y se guardan en forma de lista\n",
        "      parameters[1] = ((float(parameters[1])*new_x_size)+new_x_pos)/res_mosaico[0]\n",
        "      parameters[2] = ((float(parameters[2])*new_y_size)+new_y_pos)/res_mosaico[1]\n",
        "      parameters[3] = ((float(parameters[3])*new_x_size))/res_mosaico[0]\n",
        "      parameters[4]  = ((float(parameters[4])*new_y_size))/res_mosaico[1]\n",
        "      # Se genera string con parámetros y se escribe en etiqueta de imagen generada\n",
        "      parameters_line = ' '.join(map(str,parameters))\n",
        "      # Se escriben los parámetros en el archivo de texto\n",
        "      background_label.write(f\"{parameters_line}\\n\")\n",
        "\n",
        "      face_label.close() # Se cierra el archivo\n",
        "\n",
        "  # Se guarda imagen de fondo modificado\n",
        "  background.save(f\"{j}.jpg\")\n",
        "\n",
        "  # Se guarda archivo de texto\n",
        "  background_label.close()\n",
        "\n",
        "  # Se incrementa contador de imágenes con las imágenes procesadas\n",
        "  j = j + n_img_por_mosaico\n",
        "\n",
        "  #display(background)\n",
        "  #break\n",
        "print(\"[INFO]: Conjunto de entrenamiento generado correctamente.\")"
      ],
      "metadata": {
        "id": "SMSZA7uUbjlf"
      },
      "execution_count": null,
      "outputs": []
    },
    {
      "cell_type": "code",
      "source": [
        "# Se conprime la carpeta con las imágenes generadas\n",
        "%cd ../\n",
        "!zip -r obj.zip obj"
      ],
      "metadata": {
        "id": "ejPjvDJ4M_Cp"
      },
      "execution_count": null,
      "outputs": []
    },
    {
      "cell_type": "code",
      "source": [
        "# Se copia la base generada a la unidad de GDrive\n",
        "!cp /content/Mosaic_Dataset/obj.zip /mydrive/Mosaic_Proc_AffectNet_YOLOv4_v2/obj.zip"
      ],
      "metadata": {
        "id": "gJ6H3aRwxLXT"
      },
      "execution_count": null,
      "outputs": []
    },
    {
      "cell_type": "markdown",
      "source": [
        "### 2.4. Procesamiento conjunto de prueba\n",
        "Ahora se procesa la base de datos para prueba a partir del conjunto pre definido de la base de datos descargada (archivo test.zip)."
      ],
      "metadata": {
        "id": "XLVkMWSKHEDC"
      }
    },
    {
      "cell_type": "code",
      "source": [
        "# Se cambia directorio para generar conjunto de prueba\n",
        "%cd /content/Mosaic_Dataset/test/"
      ],
      "metadata": {
        "id": "rdHDzldCHZTP"
      },
      "execution_count": null,
      "outputs": []
    },
    {
      "cell_type": "code",
      "source": [
        "# Se genera lista con nombres de archivos en conjunto de prueba\n",
        "obj_img_list = list() # se inicializa lista para imágenes\n",
        "# Se agregan los nombres de las imágenes a la lista\n",
        "for file in os.listdir(\"/content/AffectNet_dataset/test/\"):\n",
        "    if file.endswith(\".jpg\"):\n",
        "        obj_img_list.append(file)\n",
        "# Se imprime número de imágenes encontradas en conjunto de prueba\n",
        "print(f'[INFO]: Número de imágenes encontradas en set de prueba: {len(obj_img_list)}')\n",
        "# Se reordena la lista con nombres de manera aleatoria\n",
        "random.shuffle(obj_img_list) # se reordena la lista"
      ],
      "metadata": {
        "id": "f4QQ3eSQKcMi"
      },
      "execution_count": null,
      "outputs": []
    },
    {
      "cell_type": "code",
      "source": [
        "# Se crea contador para llevar cuenta del número de imágenes restantes en el conjunto de entrenamiento\n",
        "img_restantes = len(obj_img_list)\n",
        "# Se establece número de imágenes por mosaico\n",
        "n_img_por_mosaico = 7 # este valor debe ser ingresado por el usuario\n",
        "# Se establece resolución de imagen de salida\n",
        "res_mosaico = [1024,768] # [width, height]\n",
        "\n",
        "# Aplicar máscara?\n",
        "do_Mask = True"
      ],
      "metadata": {
        "id": "iadNAIwcKuKZ"
      },
      "execution_count": null,
      "outputs": []
    },
    {
      "cell_type": "code",
      "source": [
        "from IPython.core.display import Javascript\n",
        "# Se definen tamaños máximos y mínimos para las imágenes de rostros\n",
        "max_face_res = [90, 90] # [ancho, alto]\n",
        "min_face_res = [25, 25] # [ancho, alto]\n",
        "# Proporción de imagenes por grupo:\n",
        "size_L = 0.1                    # grupo grande\n",
        "size_M = 0.32                   # grupo mediano\n",
        "size_S = (1 - size_L - size_M)  # grupo pequeño\n",
        "# Se calcula el número de imágenes para la proporción definida\n",
        "n_L = 1\n",
        "n_M = 1\n",
        "n_S = 1\n",
        "# Proporción del fondo por sección (S, M, L)\n",
        "b_size_L = 0.3\n",
        "b_size_M = 0.3\n",
        "b_size_S = (1 - b_size_L - b_size_M)\n",
        "# Se calcula el número de píxels verticales del fondo que corresponde a cada proporción\n",
        "b_L = int(b_size_L*res_mosaico[1])\n",
        "b_M = int(b_size_M*res_mosaico[1])\n",
        "b_S = res_mosaico[1] - b_L - b_M\n",
        "\n",
        "# Se inicializa lista con registro de coordenadas\n",
        "img_reg = list()\n",
        "neg_img_counter = 0\n",
        "\n",
        "# Se inicializa variable contadora de imágenes generadas\n",
        "j = 0\n",
        "# Se comienza con la generación de imágenes \n",
        "while j < len(obj_img_list):\n",
        "\n",
        "  # se crea archivo de texto para guardar anotaciones (etiqueta)\n",
        "  background_label = open(f'{j}.txt', 'w')\n",
        "\n",
        "  # Se crea fondo negro\n",
        "  background = Image.new('RGB', res_mosaico, (0, 0, 0))\n",
        "\n",
        "  #--------------------EJEMPLOS NEGATIVOS------------------------------------------------------------------\n",
        "  # Se define número de ejemplos negativos a agregar por mosaico generado\n",
        "  n_ejem_neg_por_mosaic = 10\n",
        "\n",
        "  # Se inicializa lista con registro de vértices de imágenes ya colocadas\n",
        "  img_reg = [(0, 0, 2, 2)]\n",
        "\n",
        "  # Se agregan los ejemplos negativos de manera aleatória\n",
        "  for ji in range(n_ejem_neg_por_mosaic):\n",
        "    # si el contador igualó o sobrepasó el máximo, se reinicia\n",
        "    if ji+neg_img_counter >= len(neg_img_list): neg_img_counter = 0\n",
        "    # Se abre imagen de ejemplo negativo a agregar\n",
        "    ejem_neg = Image.open(f'/content/Ejemplos_negativos/{neg_img_list[ji + neg_img_counter]}')\n",
        "    \n",
        "    do_intersect = True # variable de verificación\n",
        "    # Se genera posición nueva y se verifica la no intersección\n",
        "    while do_intersect:\n",
        "        # Se genera propuesta de coordenadas aleatoriamente\n",
        "        neg_pos_x = random.randint(0, res_mosaico[0])\n",
        "        neg_pos_y = random.randint(0, b_S + b_M)\n",
        "        # Se define vértice inferior derecho de la img\n",
        "        v_inf_der = (neg_pos_x, neg_pos_y)\n",
        "        # Se calcula el vértice superior izquierdo de la img\n",
        "        v_sup_izq = (neg_pos_x - ejem_neg.size[0], neg_pos_y - ejem_neg.size[1])\n",
        "        # Se define padding adicional a la imagen\n",
        "        padding = 4 # píxeles\n",
        "        # Se detecta intersección entre otras imágenes\n",
        "        c2 = (v_sup_izq[0] - padding, v_sup_izq[1] - padding, v_inf_der[0] + padding , v_inf_der[1] + padding)\n",
        "        d2 = Rectangle(c2[0],c2[1],c2[2],c2[3])\n",
        "        for old_coord in img_reg:\n",
        "          c1 = np.asarray(old_coord)\n",
        "          d1 = Rectangle(c1[0],c1[1],c1[2],c1[3])\n",
        "          #Se evalúa si la intersección entre ambas imágenes es distinto de vacío\n",
        "          if area(d1,d2) is None:\n",
        "            do_intersect = False # No se detectó intersección\n",
        "          else:\n",
        "            do_intersect = True # Se detectó intersección\n",
        "            n_colisiones = n_colisiones + 1\n",
        "            break # se detiene ciclo for y se vuelve a generar coordenadas\n",
        "        # Una vez se verifició que no hay colisión, se guarda coordenadas en registro\n",
        "        #img_reg.append(c2)\n",
        "\n",
        "    # Se agrega el ejemplo negativo al fondo\n",
        "    background.paste(ejem_neg, (neg_pos_x, neg_pos_y))\n",
        "    # Se cierra imagen abierta con ejemplo negativo\n",
        "    ejem_neg.close()\n",
        "  \n",
        "  # se agrega el número de ejemplos negatios agregados al contador\n",
        "  neg_img_counter = neg_img_counter + n_ejem_neg_por_mosaic\n",
        "  #-----------------------EJEMPLOS NEGATIVOS--------------------------------------------------------------\n",
        "\n",
        "  # Contador de colisiones\n",
        "  n_colisiones = 0\n",
        "  # Se verifica si se llegó a las últimas imágenes\n",
        "  if (len(obj_img_list) - j) < n_img_por_mosaico:\n",
        "    n_img_por_mosaico = len(obj_img_list) - j # se reduce número de rostros por imagen generada\n",
        "  \n",
        "  # Se agregan las fotos con rostros al fondo\n",
        "  for i in range(n_img_por_mosaico):\n",
        "    # Se abre imagen con rostro\n",
        "    face = Image.open(f'/content/AffectNet_dataset/test/{obj_img_list[i+j]}')\n",
        "\n",
        "    for ii in range(3):\n",
        "      if ii < n_L:\n",
        "        # número de imágenes por sección\n",
        "        n_img = n_L\n",
        "        # tamaño máximo y mínimo para cada rostro reescalado\n",
        "        xface_min = 2*int((max_face_res[0] - min_face_res[0])/3) + min_face_res[0]\n",
        "        xface_max = max_face_res[0]\n",
        "        yface_min = 2*int((max_face_res[1] - min_face_res[1])/3) + min_face_res[1]\n",
        "        yface_max = max_face_res[1]\n",
        "        # posición vertical mínima y máxima admitida\n",
        "        y_min = (res_mosaico[1] - b_L)\n",
        "        y_max = (res_mosaico[1] - yface_max)\n",
        "        # posición horizontal mínima y máxima admitida\n",
        "        x_min = 0\n",
        "        x_max = res_mosaico[0]-xface_max\n",
        "\n",
        "      elif ii >= n_L and ii < (n_M + n_L): \n",
        "        # número de imágenes por sección\n",
        "        n_img = n_M\n",
        "        # tamaño máximo y mínimo para cada rostro reescalado\n",
        "        xface_min = int((max_face_res[0] - min_face_res[0])/3) + min_face_res[0]\n",
        "        xface_max = 2*int((max_face_res[0] - min_face_res[0])/3) + min_face_res[0]\n",
        "        yface_min = int((max_face_res[1] - min_face_res[1])/3) + min_face_res[1]\n",
        "        yface_max = 2*int((max_face_res[1] - min_face_res[1])/3) + min_face_res[1]\n",
        "        # posición vertical mínima y máxima admitida\n",
        "        y_min = (res_mosaico[1] - b_L - b_M)\n",
        "        y_max = (res_mosaico[1] - b_L - yface_max)\n",
        "        # posición horizontal mínima y máxima admitida\n",
        "        x_min = 0\n",
        "        x_max = res_mosaico[0]-xface_max\n",
        "\n",
        "      else:\n",
        "        # número de imágenes por sección\n",
        "        n_img = n_S\n",
        "        # tamaño máximo y mínimo para cada rostro reescalado\n",
        "        xface_min = min_face_res[0]\n",
        "        xface_max = int((max_face_res[0] - min_face_res[0])/3) + min_face_res[0]\n",
        "        yface_min = min_face_res[1]\n",
        "        yface_max = int((max_face_res[1] - min_face_res[1])/3) + min_face_res[1]\n",
        "        # posición vertical mínima y máxima admitida\n",
        "        y_min = 0\n",
        "        y_max = (res_mosaico[1] - b_L - b_M - yface_max)\n",
        "        # posición horizontal mínima y máxima admitida\n",
        "        x_min = 0\n",
        "        x_max = res_mosaico[0]-xface_max\n",
        "\n",
        "      # Se calcula nueva dimensión de imagen con rostro\n",
        "      new_x_size = random.randint(xface_min, xface_max)\n",
        "      #new_y_size = random.randint(yface_min, yface_max) # se pierde aspect ratio :(\n",
        "      #Se calcula el alto para conservar aspect ratio\n",
        "      wpercent = (new_x_size/float(face.size[0]))\n",
        "      new_y_size = int((float(face.size[1])*float(wpercent)))\n",
        "      # Se escala la imagen seleccionada\n",
        "      face = face.resize((new_x_size, new_y_size), resample=PIL.Image.BILINEAR)\n",
        "      # Se calcula posición de la imagen asegurando la no intersección con imágenes anteriores\n",
        "      do_intersect = True # variable de verificación\n",
        "      # Se genera posición nueva y se verifica la no intersección\n",
        "      while do_intersect:\n",
        "        # generación de coordenadas nuevas\n",
        "        new_x_pos = random.randint(x_min, x_max)\n",
        "        new_y_pos = random.randint(y_min, y_max)\n",
        "        # Se define vértice inferior derecho de la img\n",
        "        v_inf_der = (new_x_pos, new_y_pos)\n",
        "        # Se calcula el vértice superior izquierdo de la img\n",
        "        v_sup_izq = (new_x_pos - new_x_size, new_y_pos - new_y_size)\n",
        "\n",
        "        # Se define padding adicional a la imagen\n",
        "        padding = 4 # píxeles\n",
        "\n",
        "        # Se detecta intersección entre otras imágenes\n",
        "        c2 = (v_sup_izq[0] - padding, v_sup_izq[1] - padding, v_inf_der[0] + padding , v_inf_der[1] + padding)\n",
        "        d2 = Rectangle(c2[0],c2[1],c2[2],c2[3])\n",
        "        for old_coord in img_reg:\n",
        "          c1 = np.asarray(old_coord)\n",
        "          d1 = Rectangle(c1[0],c1[1],c1[2],c1[3])\n",
        "          #Se evalúa si la intersección entre ambas imágenes es distinto de vacío\n",
        "          if area(d1,d2) is None:\n",
        "            do_intersect = False # No se detectó intersección\n",
        "          else:\n",
        "            do_intersect = True # Se detectó intersección\n",
        "            n_colisiones = n_colisiones + 1\n",
        "            break # se detiene ciclo for y se vuelve a generar coordenadas\n",
        "\n",
        "      # Una vez se verifició que no hay colisión, se guarda coordenadas en registro\n",
        "      img_reg.append(c2)\n",
        "\n",
        "      # Se agrega máscara circular si do_Mask es True\n",
        "      if do_Mask:\n",
        "        #Se aplica máscara circular\n",
        "        lum_img = Image.new('L',[new_x_size,new_y_size] ,0) \n",
        "        draw = ImageDraw.Draw(lum_img)\n",
        "        draw.pieslice([(0,0),(new_x_size,new_y_size)],0,360,fill=255)\n",
        "        # Se pega la imagen en el fondo\n",
        "        background.paste(face, (new_x_pos, new_y_pos),lum_img)\n",
        "\n",
        "      # Se abre archivo de texto del respectivo rostro\n",
        "      label_name = f\"{obj_img_list[i+j]}\"\n",
        "      #print(f\"label_name = {label_name[:-4]}.txt\")\n",
        "      face_label = open(f'/content/AffectNet_dataset/test/{label_name[:-4]}.txt','r')\n",
        "      parameters = face_label.readlines() # Se lee la línea con los parámetros del rostro\n",
        "      parameters = parameters[0].split(\" \") # Se separan los parámetros y se guardan en forma de lista\n",
        "      parameters[1] = ((float(parameters[1])*new_x_size)+new_x_pos)/res_mosaico[0]\n",
        "      parameters[2] = ((float(parameters[2])*new_y_size)+new_y_pos)/res_mosaico[1]\n",
        "      parameters[3] = ((float(parameters[3])*new_x_size))/res_mosaico[0]\n",
        "      parameters[4]  = ((float(parameters[4])*new_y_size))/res_mosaico[1]\n",
        "      # Se genera string con parámetros y se escribe en etiqueta de imagen generada\n",
        "      parameters_line = ' '.join(map(str,parameters))\n",
        "      # Se escriben los parámetros en el archivo de texto\n",
        "      background_label.write(f\"{parameters_line}\\n\")\n",
        "\n",
        "      face_label.close() # Se cierra el archivo\n",
        "\n",
        "  # Se guarda imagen de fondo modificado\n",
        "  background.save(f\"{j}.jpg\")\n",
        "\n",
        "  # Se guarda archivo de texto\n",
        "  background_label.close()\n",
        "\n",
        "  # Se incrementa contador de imágenes con las imágenes procesadas\n",
        "  j = j + n_img_por_mosaico\n",
        "\n",
        "  #display(background)\n",
        "  #break\n",
        "print(\"[INFO]: Conjunto de prueba generado correctamente.\")"
      ],
      "metadata": {
        "id": "N6t3bL7RIEjg"
      },
      "execution_count": null,
      "outputs": []
    },
    {
      "cell_type": "code",
      "source": [
        "# Se conprime la carpeta con las imágenes generadas\n",
        "%cd ../\n",
        "!zip -r test.zip test"
      ],
      "metadata": {
        "id": "6NRppTHnJa06"
      },
      "execution_count": null,
      "outputs": []
    },
    {
      "cell_type": "code",
      "source": [
        "# Se copia la base comprimida a la unidad de GDrive\n",
        "!cp /content/Mosaic_Dataset/test.zip /mydrive/Mosaic_Proc_AffectNet_YOLOv4_v2/test.zip"
      ],
      "metadata": {
        "id": "coW1v0SI10GY"
      },
      "execution_count": null,
      "outputs": []
    },
    {
      "cell_type": "code",
      "source": [
        "print(\"[INFO]: Programa finalizado.\")"
      ],
      "metadata": {
        "id": "TvOnCdn2Jkj5"
      },
      "execution_count": null,
      "outputs": []
    },
    {
      "cell_type": "code",
      "source": [
        "#Se cuentan las imágenes creadas en los datasets generados\n",
        "img_list_test = [x for x in glob.glob(\"/content/Mosaic_Dataset/test/*.jpg\")]\n",
        "print(f\"[INFO]: Imágenes (mosaicos) de validación generados: {len(img_list_test)}\")\n",
        "img_list_train = [x for x in glob.glob(\"/content/Mosaic_Dataset/obj/*.jpg\")]\n",
        "print(f\"[INFO]: Imágenes (mosaicos) de entrenamiento generados: {len(img_list_train)}\")"
      ],
      "metadata": {
        "id": "_sfJ_uL0XtrS"
      },
      "execution_count": null,
      "outputs": []
    }
  ]
}