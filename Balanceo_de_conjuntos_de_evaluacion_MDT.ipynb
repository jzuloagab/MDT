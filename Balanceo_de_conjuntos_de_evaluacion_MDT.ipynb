{
  "nbformat": 4,
  "nbformat_minor": 0,
  "metadata": {
    "colab": {
      "provenance": []
    },
    "kernelspec": {
      "name": "python3",
      "display_name": "Python 3"
    },
    "language_info": {
      "name": "python"
    }
  },
  "cells": [
    {
      "cell_type": "markdown",
      "source": [
        "# Balanceo de conjuntos de evaluación\n",
        "\n",
        "* **Autor**: Julián Zuloaga\n",
        "* **Asignatura:** Memoria de Título\n",
        "---\n",
        "\n"
      ],
      "metadata": {
        "id": "_egxdAMEd8F3"
      }
    },
    {
      "cell_type": "markdown",
      "source": [
        "**Descripción:** En este notebook se genera un algoritmo que balancea el dataset de validación de AffectNet para generar conjuntos de validación y testeo de Custom Mosaics balanceados."
      ],
      "metadata": {
        "id": "tm6ySvUZsyeI"
      }
    },
    {
      "cell_type": "code",
      "execution_count": null,
      "metadata": {
        "id": "gVNEAw8Qdz8D"
      },
      "outputs": [],
      "source": [
        "# import dependencies\n",
        "from IPython.display import display, Javascript, Image\n",
        "from google.colab.output import eval_js\n",
        "#from js2py import eval_js\n",
        "from google.colab.patches import cv2_imshow\n",
        "from base64 import b64decode, b64encode\n",
        "import numpy as np\n",
        "import PIL\n",
        "import io\n",
        "import html\n",
        "import time\n",
        "import matplotlib.pyplot as plt\n",
        "%matplotlib inline\n",
        "# Se importan librerías para procesamiento de imágenes\n",
        "from PIL import Image\n",
        "import ntpath\n",
        "import glob\n",
        "# Se importan librerías\n",
        "from IPython.display import clear_output # limpia salida\n",
        "import os # manejo de directorios\n",
        "import random # para funciones de randomizado\n",
        "from PIL import Image, ImageDraw # para manejo de imágenes\n",
        "import numpy as np # manejo de arrays de numpy\n",
        "from google.colab.patches import cv2_imshow # para mostrar imágen generada\n",
        "import cv2 # para visualización y agregar texto\n"
      ]
    },
    {
      "cell_type": "code",
      "source": [
        "# Se monta unidad de google drive a la máquina virtual de Colab\n",
        "%cd ..\n",
        "from google.colab import drive\n",
        "drive.mount('/content/gdrive')"
      ],
      "metadata": {
        "id": "Fq1vY8tHeoBt"
      },
      "execution_count": null,
      "outputs": []
    },
    {
      "cell_type": "code",
      "source": [
        "# Se crea un symbolic link para reemplazar \"/content/gdrive/My\\ Drive/\" a \"/mydrive\"\n",
        "!ln -s /content/gdrive/My\\ Drive/ /mydrive\n",
        "!ls /mydrive"
      ],
      "metadata": {
        "id": "M0hHvCwGgfnc"
      },
      "execution_count": null,
      "outputs": []
    },
    {
      "cell_type": "code",
      "source": [
        "# Se crea directorio local para guardar el dataset de validación de AffectNet\n",
        "!mkdir /content/output_data/"
      ],
      "metadata": {
        "id": "8DMJ2j2HgkaD"
      },
      "execution_count": null,
      "outputs": []
    },
    {
      "cell_type": "code",
      "source": [
        "# Se copia base de datos de validación a directorio local\n",
        "!cp /mydrive/Proc_AffectNet_YOLOv4_v1/test.zip /content/output_data/test.zip "
      ],
      "metadata": {
        "id": "XysH025BggML"
      },
      "execution_count": null,
      "outputs": []
    },
    {
      "cell_type": "code",
      "source": [
        "# se descomprime el dataset\n",
        "%cd /content/output_data/\n",
        "!unzip ./test.zip -d ./test_completo/"
      ],
      "metadata": {
        "id": "2RqY92yHiEAg"
      },
      "execution_count": null,
      "outputs": []
    },
    {
      "cell_type": "code",
      "source": [
        "# Se procede a generar lista con el nombre de las imágenes del set de validación completo\n",
        "img_list = [x for x in glob.glob(\"/content/output_data/test_completo/*.jpg\")]"
      ],
      "metadata": {
        "id": "hwq9-kUPibj9"
      },
      "execution_count": null,
      "outputs": []
    },
    {
      "cell_type": "code",
      "source": [
        "# Se define lista con categorías de emoción de la base de datos\n",
        "class_list = ['Neutral', 'Happy', 'Sad', 'Surprise', 'Fear', 'Disgust', 'Anger','Contempt']"
      ],
      "metadata": {
        "id": "kVd3WWHfjrZt"
      },
      "execution_count": null,
      "outputs": []
    },
    {
      "cell_type": "code",
      "source": [
        "# Se identifican las imágenes de cada categoría y se separa su directorio en listas distintas\n",
        "sorted_img_list = dict() # se inicializa diccionario con direcciones de imágenes ordenadas por clase\n",
        "# se agregan las keys al diccionario y se inicializa lista como values\n",
        "for j in class_list:\n",
        "  sorted_img_list[j] = list()\n",
        "# Se itera la lista de imágenes\n",
        "for img_addr in img_list:\n",
        "  # se abre archivo de texto para la imagen correspondiente\n",
        "  f = open(f\"{img_addr[:-4]}.txt\", \"r\")\n",
        "  # Se lee la línea de parámetros en formato String\n",
        "  line = f.readline()\n",
        "  # Se separan los elementos del string\n",
        "  params = line.split(\" \")\n",
        "  # Se asigna la clase a la variable img_class por medio del parámetro de clase\n",
        "  img_class = class_list[int(params[0])]\n",
        "  # una vez identificada la clase de la imagen, se guarda su dirección y clase al diccionario sorted_img_list\n",
        "  #sorted_img_list[img_class] = img_addr\n",
        "  sorted_img_list[img_class].append(img_addr)\n",
        "\n",
        "  # Se cierra el archivo de texto\n",
        "  f.close()"
      ],
      "metadata": {
        "id": "2cQ-hQM6lJC3"
      },
      "execution_count": null,
      "outputs": []
    },
    {
      "cell_type": "code",
      "source": [
        "# Se verifica contenido del diccionario\n",
        "elem_counter = 0\n",
        "for key, value in sorted_img_list.items():\n",
        "  print(key, value)\n",
        "  elem_counter += len(value)\n",
        "print(f'N° de elementos total diccionario: {elem_counter}')"
      ],
      "metadata": {
        "id": "Nw0_A8OcTrD_"
      },
      "execution_count": null,
      "outputs": []
    },
    {
      "cell_type": "code",
      "source": [
        "# Es imporante tener en cuenta la cantidad de imágenes que hay en el set de entrenamiento de AffectNet\n",
        "# Neutral:  74.874  (26,0%)\n",
        "# Happy:    134.415 (46,7%)\n",
        "# Sad:      25.459  (8,85%)\n",
        "# Surprise: 14.090  (4,89%)\n",
        "# Fear:     6.378   (2,21%)\n",
        "# Disgust:  3.803   (1,32%)\n",
        "# Anger:    24.882  (8,65%)\n",
        "# Contempt: 3.750   (1,30%)\n",
        "# -------------------------------\n",
        "# TOTAL: 287.651 IMÁGENES\n",
        "#\n",
        "#\n",
        "# Para que el conjunto de validación/testeo posea el mismo balance, debería tener\n",
        "# Neutral:  4.992 (26,03%) \n",
        "# Happy:    8.961 (46,7%)\n",
        "# Sad:      1.697 (8,85%)\n",
        "# Surprise: 939   (4,89%)\n",
        "# Fear:     425   (2,21%)\n",
        "# Disgust:  254   (1,32%)\n",
        "# Anger:    1.659 (8,65%)\n",
        "# Contempt: 250   (1,30%)\n",
        "# ------------------------------\n",
        "# TOTAL: 19.177 IMÁGENES"
      ],
      "metadata": {
        "id": "aDB25RBjeGKR"
      },
      "execution_count": null,
      "outputs": []
    },
    {
      "cell_type": "code",
      "source": [
        "# Tecnicas de Data Augmentation:\n",
        "# -----------------------------\n",
        "# a. Horizontal Flip\n",
        "# b. Random Contrast\n",
        "# c. Random Gamma\n",
        "# d. Random Brighten\n",
        "# e. Linear Blur Filter | este quizás no sea necesario si se considera el original también..."
      ],
      "metadata": {
        "id": "lyzI8xrT1nas"
      },
      "execution_count": null,
      "outputs": []
    },
    {
      "cell_type": "code",
      "source": [
        "# Luego, se propone realizar la siguiente lista de técnicas de Data Augmentation\n",
        "# Neutral:  250 x 5 (Orig+DA) x 4 (mos) = 5.000  | ~4.992 \n",
        "# Happy:    250 x 5 (Orig+DA) x 6 (mos) = 8.750  | ~8.961\n",
        "# Sad:      250 x 3 (Orig+DA) x 3 (mos) = 1.500  | ~1.697 \n",
        "# Surprise: 250 x 2 (Orig+DA) x 2 (mos) = 1000   | ~939\n",
        "# Fear:     250 x 2 (mos) = 500                  | ~425\n",
        "# Disgust:  250 x 1 (mos) = 250                  | ~254\n",
        "# Anger:    250 x 2 (Orig+DA) x 3 (mos)          | ~1.500\n",
        "# Contempt: 250 (Original)"
      ],
      "metadata": {
        "id": "PnnI0JFSLuCx"
      },
      "execution_count": null,
      "outputs": []
    },
    {
      "cell_type": "code",
      "source": [
        "# se crean directorios para los datasets de salida (validación y testeo)\n",
        "!mkdir /content/output_sets/ /content/output_sets/val /content/output_sets/test"
      ],
      "metadata": {
        "id": "nTAJXZISC6KL"
      },
      "execution_count": null,
      "outputs": []
    },
    {
      "cell_type": "code",
      "source": [
        "import os # manejo de directorios\n",
        "# Se crean directorios con las clases\n",
        "val_addr = \"/content/output_sets/val/\"\n",
        "test_addr = \"/content/output_sets/test/\"\n",
        "for class_name in class_list:\n",
        "  os.mkdir(f\"{val_addr}{class_name}/\")\n",
        "  os.mkdir(f\"{test_addr}{class_name}/\")"
      ],
      "metadata": {
        "id": "aSaStAYQFmoH"
      },
      "execution_count": null,
      "outputs": []
    },
    {
      "cell_type": "markdown",
      "source": [
        "# Procesamiento de dataset"
      ],
      "metadata": {
        "id": "Fv3ruMWzMALR"
      }
    },
    {
      "cell_type": "markdown",
      "source": [
        "## Clase Neutral"
      ],
      "metadata": {
        "id": "9QHEn35QMEqP"
      }
    },
    {
      "cell_type": "code",
      "source": [
        "from PIL import Image, ImageEnhance # se importan librerías para procesamiento de imágenes\n",
        "import shutil # para copiar archivos de texto\n",
        "\n",
        "# Se define contador de imágenes\n",
        "img_counter = 0\n",
        "# Se define clase\n",
        "img_class = \"Neutral\"\n",
        "# Se procesa el conjunto Neutral:\n",
        "for img_addr in sorted_img_list.get(img_class):\n",
        "  # se abre imagen\n",
        "  img = Image.open(img_addr)\n",
        "  # se aplica horizontal flip\n",
        "  img_horizontal_flip = img.transpose(PIL.Image.FLIP_LEFT_RIGHT)\n",
        "  # se aplica cambio de contraste\n",
        "  enhancer = ImageEnhance.Contrast(img)   # se define enhancer para contraste\n",
        "  img_contrast = enhancer.enhance(1.5)    # se aumenta el contraste\n",
        "  # se aplica cambio de brillo\n",
        "  enhancer = ImageEnhance.Brightness(img) # se define enhancer para brillo\n",
        "  img_brightness = enhancer.enhance(1.5)  \n",
        "  # Se aplica cambio de saturación\n",
        "  enhancer = ImageEnhance.Color(img)      # se define enhancer para saturación\n",
        "  img_saturation = enhancer.enhance(0.5)\n",
        "  # Se determina directorio de salida en base al numero de imágenes procesadas para la clase\n",
        "  img_counter += 1\n",
        "  if img_counter > 250:\n",
        "    output_dir = \"/content/output_sets/val/\"\n",
        "  else:\n",
        "    output_dir = \"/content/output_sets/test/\"\n",
        "  # se guardan las imágenes\n",
        "  img.save(f\"{output_dir}{img_class}/{os.path.basename(img_addr)[:-4]}_normal.jpg\")\n",
        "  img_horizontal_flip.save(f\"{output_dir}{img_class}/{os.path.basename(img_addr)[:-4]}_horizontal_flip.jpg\")\n",
        "  img_contrast.save(f\"{output_dir}{img_class}/{os.path.basename(img_addr)[:-4]}_contrast.jpg\")\n",
        "  img_brightness.save(f\"{output_dir}{img_class}/{os.path.basename(img_addr)[:-4]}_brightness.jpg\")\n",
        "  img_saturation.save(f\"{output_dir}{img_class}/{os.path.basename(img_addr)[:-4]}_saturation.jpg\")\n",
        "  # se guardan las anotaciones para dichas imágenes\n",
        "  shutil.copyfile(f\"{img_addr[:-4]}.txt\", f\"{output_dir}{img_class}/{os.path.basename(img_addr)[:-4]}_normal.txt\")\n",
        "  shutil.copyfile(f\"{img_addr[:-4]}.txt\", f\"{output_dir}{img_class}/{os.path.basename(img_addr)[:-4]}_horizontal_flip.txt\")\n",
        "  shutil.copyfile(f\"{img_addr[:-4]}.txt\", f\"{output_dir}{img_class}/{os.path.basename(img_addr)[:-4]}_contrast.txt\")\n",
        "  shutil.copyfile(f\"{img_addr[:-4]}.txt\", f\"{output_dir}{img_class}/{os.path.basename(img_addr)[:-4]}_brightness.txt\")\n",
        "  shutil.copyfile(f\"{img_addr[:-4]}.txt\", f\"{output_dir}{img_class}/{os.path.basename(img_addr)[:-4]}_saturation.txt\")\n",
        "  # Se cierran las imágenes\n",
        "  img.close()\n",
        "  img_horizontal_flip.close()\n",
        "  img_contrast.close()\n",
        "  img_brightness.close()\n",
        "  img_saturation.close()"
      ],
      "metadata": {
        "id": "wlZhrsVXbQfS"
      },
      "execution_count": null,
      "outputs": []
    },
    {
      "cell_type": "markdown",
      "source": [
        "## Clase Happy"
      ],
      "metadata": {
        "id": "GvjImvJ6MKdb"
      }
    },
    {
      "cell_type": "code",
      "source": [
        "# Se define contador de imágenes\n",
        "img_counter = 0\n",
        "# Se define clase\n",
        "img_class = \"Happy\"\n",
        "# Se procesa el conjunto Happy:\n",
        "for img_addr in sorted_img_list.get(img_class):\n",
        "  # se abre imagen\n",
        "  img = Image.open(img_addr)\n",
        "  # se aplica horizontal flip\n",
        "  img_horizontal_flip = img.transpose(PIL.Image.FLIP_LEFT_RIGHT)\n",
        "  # se aplica cambio de contraste\n",
        "  enhancer = ImageEnhance.Contrast(img)   # se define enhancer para contraste\n",
        "  img_contrast = enhancer.enhance(1.5)    # se aumenta el contraste\n",
        "  # se aplica cambio de brillo\n",
        "  enhancer = ImageEnhance.Brightness(img) # se define enhancer para brillo\n",
        "  img_brightness = enhancer.enhance(1.5)  \n",
        "  # Se aplica cambio de saturación\n",
        "  enhancer = ImageEnhance.Color(img)      # se define enhancer para saturación\n",
        "  img_saturation = enhancer.enhance(0.5)\n",
        "  # Se aplica filtro de desenfoque\n",
        "  enhancer = ImageEnhance.Sharpness(img) # se define enhancer para desenfoque (Linear Box Filter)\n",
        "  img_blur = enhancer.enhance(0.1)\n",
        "  enhancer = ImageEnhance.Sharpness(img_blur) # se aplica filtro de desenfoque por 2a vez\n",
        "  img_blur = enhancer.enhance(0.1)\n",
        "  enhancer = ImageEnhance.Sharpness(img_blur) # se aplica filtro de desenfoque por 3a vez\n",
        "  img_blur = enhancer.enhance(0.1)\n",
        "  # Se determina directorio de salida en base al numero de imágenes procesadas para la clase\n",
        "  img_counter += 1\n",
        "  if img_counter > 250:\n",
        "    output_dir = \"/content/output_sets/val/\"\n",
        "  else:\n",
        "    output_dir = \"/content/output_sets/test/\"\n",
        "  # se guardan las imágenes\n",
        "  img.save(f\"{output_dir}{img_class}/{os.path.basename(img_addr)[:-4]}_normal.jpg\")\n",
        "  img_horizontal_flip.save(f\"{output_dir}{img_class}/{os.path.basename(img_addr)[:-4]}_horizontal_flip.jpg\")\n",
        "  img_contrast.save(f\"{output_dir}{img_class}/{os.path.basename(img_addr)[:-4]}_contrast.jpg\")\n",
        "  img_brightness.save(f\"{output_dir}{img_class}/{os.path.basename(img_addr)[:-4]}_brightness.jpg\")\n",
        "  img_saturation.save(f\"{output_dir}{img_class}/{os.path.basename(img_addr)[:-4]}_saturation.jpg\")\n",
        "  img_blur.save(f\"{output_dir}{img_class}/{os.path.basename(img_addr)[:-4]}_blur.jpg\")\n",
        "  # se guardan las anotaciones para dichas imágenes\n",
        "  shutil.copyfile(f\"{img_addr[:-4]}.txt\", f\"{output_dir}{img_class}/{os.path.basename(img_addr)[:-4]}_normal.txt\")\n",
        "  shutil.copyfile(f\"{img_addr[:-4]}.txt\", f\"{output_dir}{img_class}/{os.path.basename(img_addr)[:-4]}_horizontal_flip.txt\")\n",
        "  shutil.copyfile(f\"{img_addr[:-4]}.txt\", f\"{output_dir}{img_class}/{os.path.basename(img_addr)[:-4]}_contrast.txt\")\n",
        "  shutil.copyfile(f\"{img_addr[:-4]}.txt\", f\"{output_dir}{img_class}/{os.path.basename(img_addr)[:-4]}_brightness.txt\")\n",
        "  shutil.copyfile(f\"{img_addr[:-4]}.txt\", f\"{output_dir}{img_class}/{os.path.basename(img_addr)[:-4]}_saturation.txt\")\n",
        "  shutil.copyfile(f\"{img_addr[:-4]}.txt\", f\"{output_dir}{img_class}/{os.path.basename(img_addr)[:-4]}_blur.txt\")\n",
        "  # Se cierran las imágenes\n",
        "  img.close()\n",
        "  img_horizontal_flip.close()\n",
        "  img_contrast.close()\n",
        "  img_brightness.close()\n",
        "  img_saturation.close()\n",
        "  img_blur.close()"
      ],
      "metadata": {
        "id": "lrwTXCwNMJca"
      },
      "execution_count": null,
      "outputs": []
    },
    {
      "cell_type": "markdown",
      "source": [
        "## Clase Sad"
      ],
      "metadata": {
        "id": "J4TYsbCHMSKR"
      }
    },
    {
      "cell_type": "code",
      "source": [
        "from PIL import Image, ImageEnhance # se importan librerías para procesamiento de imágenes\n",
        "# Se define contador de imágenes\n",
        "img_counter = 0\n",
        "# Se define clase\n",
        "img_class = \"Sad\"\n",
        "# Se procesa el conjunto Sad:\n",
        "for img_addr in sorted_img_list.get(img_class):\n",
        "  # se abre imagen\n",
        "  img = Image.open(img_addr)\n",
        "  # se aplica horizontal flip\n",
        "  img_horizontal_flip = img.transpose(PIL.Image.FLIP_LEFT_RIGHT)\n",
        "  # Se determina directorio de salida en base al numero de imágenes procesadas para la clase\n",
        "  img_counter += 1\n",
        "  if img_counter > 250:\n",
        "    output_dir = \"/content/output_sets/val/\"\n",
        "  else:\n",
        "    output_dir = \"/content/output_sets/test/\"\n",
        "  # se guardan las imágenes\n",
        "  img.save(f\"{output_dir}{img_class}/{os.path.basename(img_addr)[:-4]}_normal.jpg\")\n",
        "  img_horizontal_flip.save(f\"{output_dir}{img_class}/{os.path.basename(img_addr)[:-4]}_horizontal_flip.jpg\")\n",
        "  # se guardan las anotaciones para dichas imágenes\n",
        "  shutil.copyfile(f\"{img_addr[:-4]}.txt\", f\"{output_dir}{img_class}/{os.path.basename(img_addr)[:-4]}_normal.txt\")\n",
        "  shutil.copyfile(f\"{img_addr[:-4]}.txt\", f\"{output_dir}{img_class}/{os.path.basename(img_addr)[:-4]}_horizontal_flip.txt\")\n",
        "  # Se cierran las imágenes\n",
        "  img.close()\n",
        "  img_horizontal_flip.close()"
      ],
      "metadata": {
        "id": "THCcT1RmMSc9"
      },
      "execution_count": null,
      "outputs": []
    },
    {
      "cell_type": "markdown",
      "source": [
        "## Clase Surprise"
      ],
      "metadata": {
        "id": "8vwvXhkbMSvJ"
      }
    },
    {
      "cell_type": "code",
      "source": [
        "from PIL import Image, ImageEnhance # se importan librerías para procesamiento de imágenes\n",
        "# Se define contador de imágenes\n",
        "img_counter = 0\n",
        "# Se define clase\n",
        "img_class = \"Surprise\"\n",
        "# Se procesa el conjunto Surprise:\n",
        "for img_addr in sorted_img_list.get(img_class):\n",
        "  # se abre imagen\n",
        "  img = Image.open(img_addr)\n",
        "  # se aplica horizontal flip\n",
        "  img_horizontal_flip = img.transpose(PIL.Image.FLIP_LEFT_RIGHT)\n",
        "  # Se determina directorio de salida en base al numero de imágenes procesadas para la clase\n",
        "  img_counter += 1\n",
        "  if img_counter > 250:\n",
        "    output_dir = \"/content/output_sets/val/\"\n",
        "  else:\n",
        "    output_dir = \"/content/output_sets/test/\"\n",
        "  # se guardan las imágenes\n",
        "  img.save(f\"{output_dir}{img_class}/{os.path.basename(img_addr)[:-4]}_normal.jpg\")\n",
        "  img_horizontal_flip.save(f\"{output_dir}{img_class}/{os.path.basename(img_addr)[:-4]}_horizontal_flip.jpg\")\n",
        "    # se guardan las anotaciones para dichas imágenes\n",
        "  shutil.copyfile(f\"{img_addr[:-4]}.txt\", f\"{output_dir}{img_class}/{os.path.basename(img_addr)[:-4]}_normal.txt\")\n",
        "  shutil.copyfile(f\"{img_addr[:-4]}.txt\", f\"{output_dir}{img_class}/{os.path.basename(img_addr)[:-4]}_horizontal_flip.txt\")\n",
        "  # Se cierran las imágenes\n",
        "  img.close()\n",
        "  img_horizontal_flip.close()"
      ],
      "metadata": {
        "id": "un7lCWfQMZzG"
      },
      "execution_count": null,
      "outputs": []
    },
    {
      "cell_type": "markdown",
      "source": [
        "## Clase Fear"
      ],
      "metadata": {
        "id": "jnM2AVPvMZ9z"
      }
    },
    {
      "cell_type": "code",
      "source": [
        "from PIL import Image, ImageEnhance # se importan librerías para procesamiento de imágenes\n",
        "# Se define contador de imágenes\n",
        "img_counter = 0\n",
        "# Se define clase\n",
        "img_class = \"Fear\"\n",
        "# Se procesa el conjunto Fear:\n",
        "for img_addr in sorted_img_list.get(img_class):\n",
        "  # se abre imagen\n",
        "  img = Image.open(img_addr)\n",
        "  # Se determina directorio de salida en base al numero de imágenes procesadas para la clase\n",
        "  img_counter += 1\n",
        "  if img_counter > 250:\n",
        "    output_dir = \"/content/output_sets/val/\"\n",
        "  else:\n",
        "    output_dir = \"/content/output_sets/test/\"\n",
        "  # se guardan las imágenes\n",
        "  img.save(f\"{output_dir}{img_class}/{os.path.basename(img_addr)[:-4]}_normal.jpg\")\n",
        "  # se guardan las anotaciones para dichas imágenes\n",
        "  shutil.copyfile(f\"{img_addr[:-4]}.txt\", f\"{output_dir}{img_class}/{os.path.basename(img_addr)[:-4]}_normal.txt\")\n",
        "  # Se cierran las imágenes\n",
        "  img.close()"
      ],
      "metadata": {
        "id": "aOjlVasaMd-h"
      },
      "execution_count": null,
      "outputs": []
    },
    {
      "cell_type": "markdown",
      "source": [
        "## Clase Disgust"
      ],
      "metadata": {
        "id": "VLgQq2fdMeOf"
      }
    },
    {
      "cell_type": "code",
      "source": [
        "from PIL import Image, ImageEnhance # se importan librerías para procesamiento de imágenes\n",
        "# Se define contador de imágenes\n",
        "img_counter = 0\n",
        "# Se define clase\n",
        "img_class = \"Disgust\"\n",
        "# Se procesa el conjunto Disgust:\n",
        "for img_addr in sorted_img_list.get(img_class):\n",
        "  # se abre imagen\n",
        "  img = Image.open(img_addr)\n",
        "  # Se determina directorio de salida en base al numero de imágenes procesadas para la clase\n",
        "  img_counter += 1\n",
        "  if img_counter > 250:\n",
        "    output_dir = \"/content/output_sets/val/\"\n",
        "  else:\n",
        "    output_dir = \"/content/output_sets/test/\"\n",
        "  # se guardan las imágenes\n",
        "  img.save(f\"{output_dir}{img_class}/{os.path.basename(img_addr)[:-4]}_normal.jpg\")\n",
        "  # se guardan las anotaciones para dichas imágenes\n",
        "  shutil.copyfile(f\"{img_addr[:-4]}.txt\", f\"{output_dir}{img_class}/{os.path.basename(img_addr)[:-4]}_normal.txt\")\n",
        "  # Se cierran las imágenes\n",
        "  img.close()"
      ],
      "metadata": {
        "id": "YiP2DuAxMhtE"
      },
      "execution_count": null,
      "outputs": []
    },
    {
      "cell_type": "markdown",
      "source": [
        "## Clase Anger"
      ],
      "metadata": {
        "id": "eVKOm-_fMh-B"
      }
    },
    {
      "cell_type": "code",
      "source": [
        "# Se define contador de imágenes\n",
        "img_counter = 0\n",
        "# Se define clase\n",
        "img_class = \"Anger\"\n",
        "# Se procesa el conjunto Anger:\n",
        "for img_addr in sorted_img_list.get(img_class):\n",
        "  # se abre imagen\n",
        "  img = Image.open(img_addr)\n",
        "  # se aplica horizontal flip\n",
        "  img_horizontal_flip = img.transpose(PIL.Image.FLIP_LEFT_RIGHT)\n",
        "  # se aplica cambio de contraste\n",
        "  img_counter += 1\n",
        "  if img_counter > 250:\n",
        "    output_dir = \"/content/output_sets/val/\"\n",
        "  else:\n",
        "    output_dir = \"/content/output_sets/test/\"\n",
        "  # se guardan las imágenes\n",
        "  img.save(f\"{output_dir}{img_class}/{os.path.basename(img_addr)[:-4]}_normal.jpg\")\n",
        "  img_horizontal_flip.save(f\"{output_dir}{img_class}/{os.path.basename(img_addr)[:-4]}_horizontal_flip.jpg\")\n",
        "  # se guardan las anotaciones para dichas imágenes\n",
        "  shutil.copyfile(f\"{img_addr[:-4]}.txt\", f\"{output_dir}{img_class}/{os.path.basename(img_addr)[:-4]}_normal.txt\")\n",
        "  shutil.copyfile(f\"{img_addr[:-4]}.txt\", f\"{output_dir}{img_class}/{os.path.basename(img_addr)[:-4]}_horizontal_flip.txt\")\n",
        "  # Se cierran las imágenes\n",
        "  img.close()\n",
        "  img_horizontal_flip.close()"
      ],
      "metadata": {
        "id": "5Lf703w7MlwN"
      },
      "execution_count": null,
      "outputs": []
    },
    {
      "cell_type": "markdown",
      "source": [
        "## Clase Contempt"
      ],
      "metadata": {
        "id": "BwOelVBtMl8I"
      }
    },
    {
      "cell_type": "code",
      "source": [
        "# Se define contador de imágenes\n",
        "img_counter = 0\n",
        "# Se define clase\n",
        "img_class = \"Contempt\"\n",
        "# Se procesa el conjunto Contempt:\n",
        "for img_addr in sorted_img_list.get(img_class):\n",
        "  # se abre imagen\n",
        "  img = Image.open(img_addr)\n",
        "  # Se determina directorio de salida en base al numero de imágenes procesadas para la clase\n",
        "  img_counter += 1\n",
        "  if img_counter > 250:\n",
        "    output_dir = \"/content/output_sets/val/\"\n",
        "  else:\n",
        "    output_dir = \"/content/output_sets/test/\"\n",
        "  # se guardan las imágenes\n",
        "  img.save(f\"{output_dir}{img_class}/{os.path.basename(img_addr)[:-4]}_normal.jpg\")\n",
        "  # se guardan las anotaciones para dichas imágenes\n",
        "  shutil.copyfile(f\"{img_addr[:-4]}.txt\", f\"{output_dir}{img_class}/{os.path.basename(img_addr)[:-4]}_normal.txt\")\n",
        "  # Se cierran las imágenes\n",
        "  img.close()"
      ],
      "metadata": {
        "id": "GgIFY6C3Mt6A"
      },
      "execution_count": null,
      "outputs": []
    },
    {
      "cell_type": "markdown",
      "source": [
        "# Guardado de los datasets"
      ],
      "metadata": {
        "id": "FsrOTRFTMuJz"
      }
    },
    {
      "cell_type": "code",
      "source": [
        "# Primero, se verifica el número de imágenes generadas para cada categoría, de cada conjunto\n",
        "\n",
        "# Set de validación\n",
        "print(\"---------------- SET DE VALIDACIÓN ----------------\")\n",
        "img_counter = 0\n",
        "for img_class in class_list:\n",
        "  img_list = [x for x in glob.glob(f\"/content/output_sets/val/{img_class}/*.jpg\")]\n",
        "  print(f\"Clase {img_class}: {len(img_list)}\")\n",
        "  img_counter = img_counter + len(img_list)\n",
        "\n",
        "print(f\"Imágenes totales encontradas: {img_counter}\")\n",
        "\n",
        "# Set de testeo\n",
        "print(\"---------------- SET DE TESTEO ----------------\")\n",
        "img_counter = 0\n",
        "for img_class in class_list:\n",
        "  img_list = [x for x in glob.glob(f\"/content/output_sets/test/{img_class}/*.jpg\")]\n",
        "  print(f\"Clase {img_class}: {len(img_list)}\")\n",
        "  img_counter = img_counter + len(img_list)\n",
        "\n",
        "print(f\"Imágenes totales encontradas: {img_counter}\")"
      ],
      "metadata": {
        "id": "DH_8WrihhZvF"
      },
      "execution_count": null,
      "outputs": []
    },
    {
      "cell_type": "code",
      "source": [
        "# Ahora, se procede a copiar todos los archivos a carpetas para guardarlas en formato YOLOv4\n",
        "!mkdir /content/output_sets/val/test /content/output_sets/test/test # carpetas finales"
      ],
      "metadata": {
        "id": "U1peaAXtqhKo"
      },
      "execution_count": null,
      "outputs": []
    },
    {
      "cell_type": "code",
      "source": [
        "# Validación\n",
        "# Se llena lista con direcciones de todos los archivos del set de validación\n",
        "total_file_list = list()\n",
        "for file_class in class_list:\n",
        "  file_list = [x for x in glob.glob(f\"/content/output_sets/val/{file_class}/*.*\")]\n",
        "  for elem in file_list:\n",
        "    total_file_list.append(elem)\n",
        "# Se copian los archivos de la lista al directorio final (carpeta \"test\")\n",
        "for file_addr in total_file_list:\n",
        "  shutil.copyfile(file_addr, f\"/content/output_sets/val/test/{os.path.basename(file_addr)}\")\n",
        "total_file_list.clear()\n",
        "\n",
        "# Testeo\n",
        "# Se llena lista con direcciones de todos los archivos del set de testeo\n",
        "total_file_list = list()\n",
        "for file_class in class_list:\n",
        "  file_list = [x for x in glob.glob(f\"/content/output_sets/test/{file_class}/*.*\")]\n",
        "  for elem in file_list:\n",
        "    total_file_list.append(elem)\n",
        "# Se copian los archivos de la lista al directorio final (carpeta \"test\")\n",
        "for file_addr in total_file_list:\n",
        "  shutil.copyfile(file_addr, f\"/content/output_sets/test/test/{os.path.basename(file_addr)}\")\n",
        "total_file_list.clear()"
      ],
      "metadata": {
        "id": "O1YcJTnhqAIw"
      },
      "execution_count": null,
      "outputs": []
    },
    {
      "cell_type": "code",
      "source": [
        "# Se comprueba número de archivos en cada set\n",
        "file_list = [x for x in glob.glob(f\"/content/output_sets/val/test/*.jpg\")]\n",
        "print(len(file_list))"
      ],
      "metadata": {
        "colab": {
          "base_uri": "https://localhost:8080/"
        },
        "id": "O5T3NIgPsD-n",
        "outputId": "9e45f9cc-1eb0-49b3-d7f0-958bf24c37f9"
      },
      "execution_count": null,
      "outputs": [
        {
          "output_type": "stream",
          "name": "stdout",
          "text": [
            "4999\n"
          ]
        }
      ]
    },
    {
      "cell_type": "code",
      "source": [
        "# Se procede a comprimir los sets\n",
        "%cd /content/output_sets/test/test\n",
        "!zip -r ../test.zip ./\n",
        "%cd /content/output_sets/val/test\n",
        "!zip -r ../test.zip ./"
      ],
      "metadata": {
        "id": "Dr8WDR56tkso"
      },
      "execution_count": null,
      "outputs": []
    },
    {
      "cell_type": "code",
      "source": [
        "# Se detiene ejecución automática\n",
        "#assert False"
      ],
      "metadata": {
        "id": "SxlZyjA1kPPu"
      },
      "execution_count": null,
      "outputs": []
    },
    {
      "cell_type": "code",
      "source": [
        "# Finalmente, se copian los sets generados a una carpeta en la unidad de GDrive\n",
        "#!mkdir /mydrive/Generacion_datasets_eval_balanceados_v1/\n",
        "#%cd /mydrive/Generacion_datasets_eval_balanceados_v1/\n",
        "#!mkdir ./validacion/ ./testeo/\n",
        "#!cp /content/output_sets/test/test.zip ./testeo/test.zip\n",
        "#!cp /content/output_sets/val/test.zip ./validacion/test.zip"
      ],
      "metadata": {
        "id": "nP8mIktDuhOi"
      },
      "execution_count": null,
      "outputs": []
    },
    {
      "cell_type": "markdown",
      "source": [
        "# Generación de Mosaicos"
      ],
      "metadata": {
        "id": "tRrVG8bZkrT5"
      }
    },
    {
      "cell_type": "code",
      "source": [
        "# Se define la dirección de ambos conjuntos\n",
        "test_set_addr = \"/content/output_sets/test/test\"\n",
        "val_set_addr = \"/content/output_sets/val/test\""
      ],
      "metadata": {
        "id": "mjdqMQvekuuK"
      },
      "execution_count": null,
      "outputs": []
    },
    {
      "cell_type": "code",
      "source": [
        "# Se crean carpetas\n",
        "%cd /content/\n",
        "!mkdir -v ./Custom_Mosaics/ ./Custom_Mosaics/test/ ./Custom_Mosaics/val/ # directorios de salida para mosaicos\n",
        "!mkdir -v ./Ejemplos_negativos # directorio para los ejemplos negativos"
      ],
      "metadata": {
        "id": "RJ6efcROovlI"
      },
      "execution_count": null,
      "outputs": []
    },
    {
      "cell_type": "code",
      "source": [
        "# Se descargan los ejemplos negativos:\n",
        "!wget --load-cookies /tmp/cookies.txt \"https://docs.google.com/uc?export=download&confirm=$(wget --quiet --save-cookies /tmp/cookies.txt --keep-session-cookies --no-check-certificate 'https://docs.google.com/uc?export=download&id=1377C02YttAOMGNwyZjkK78M_2wPTGU8q' -O- | sed -rn 's/.*confirm=([0-9A-Za-z_]+).*/\\1\\n/p')&id=1377C02YttAOMGNwyZjkK78M_2wPTGU8q\" -O ./Ejemplos_negativos/obj.zip && rm -rf /tmp/cookies.txt"
      ],
      "metadata": {
        "id": "APHmryYep8od"
      },
      "execution_count": null,
      "outputs": []
    },
    {
      "cell_type": "code",
      "source": [
        "# Se descomprime archivo .zip con ejemplos negativos\n",
        "!unzip -q ./Ejemplos_negativos/obj.zip -d ./Ejemplos_negativos/\n",
        "# Una vez descomprimidos los archivos, se borra el archivo .zip\n",
        "!rm ./Ejemplos_negativos/obj.zip"
      ],
      "metadata": {
        "id": "bYu_nCYAqxzp"
      },
      "execution_count": null,
      "outputs": []
    },
    {
      "cell_type": "code",
      "source": [
        "# Se aplica volveo horizontal a los ejemplos negativos\n",
        "from PIL import Image, ImageOps\n",
        "import PIL\n",
        "import glob\n",
        "img_list_ejemp = [x for x in glob.glob(\"/content/Ejemplos_negativos/*.jpg\")]\n",
        "contador = 0 # contador para evitar nombres repetidos\n",
        "for neg_img in img_list_ejemp:\n",
        "  this_img = Image.open(neg_img) # se abre imagen de ejemplo negativo\n",
        "  this_img_mirror=ImageOps.mirror(this_img) # se aplica horizontal flip\n",
        "  this_img_mirror.save(f\"/content/Ejemplos_negativos/flip_{contador}.jpg\") # se guarda imagen volteada\n",
        "  this_img.close() # se cierra imagen\n",
        "  this_img_mirror.close() # se cierra imagen con horizontal flip\n",
        "  contador += 1 # se incrementa contador"
      ],
      "metadata": {
        "id": "fcPy4HmtrViZ"
      },
      "execution_count": null,
      "outputs": []
    },
    {
      "cell_type": "markdown",
      "source": [
        "## Conjunto de Validación"
      ],
      "metadata": {
        "id": "uo55cTb2sCMq"
      }
    },
    {
      "cell_type": "code",
      "source": [
        "# Se genera lista con nombres de archivos en conjunto de validación\n",
        "img_list = list() # se inicializa lista para imágenes\n",
        "# Se agregan los nombres de las imágenes a la lista\n",
        "img_list = [x for x in glob.glob(f\"{val_set_addr}/*.jpg\")]\n",
        "# Se imprime número de imágenes encontradas en conjunto de entrenamiento\n",
        "print(f'[INFO]: Número de imágenes encontradas en set de validación: {len(img_list)}')\n",
        "# Se reordena la lista con nombres de manera aleatoria\n",
        "random.seed(123) # se genera semilla para obtener siempre el mismo resultado\n",
        "random.shuffle(img_list) # se reordena la lista de manera aleatoria"
      ],
      "metadata": {
        "id": "UsblGeSYr9Yg"
      },
      "execution_count": null,
      "outputs": []
    },
    {
      "cell_type": "code",
      "source": [
        "# Se genera lista con nombres de archivos en conjunto de ejemplos negativos\n",
        "neg_img_list = list() # se inicializa lista de imágenes\n",
        "# Se agergan los nombres de las imágenes a la lista\n",
        "neg_img_list = [x for x in glob.glob(f\"/content/Ejemplos_negativos/*.jpg\")]\n",
        "# Se imprime número de imágenes encontradas en conjunto de ejemplos negativos\n",
        "print(f'[INFO]: Número de imágenes encontradas en set de ejemplos negativos: {len(neg_img_list)}')\n",
        "# Se reordena la lista con nombres de manera aleatoria\n",
        "random.seed(123) # se genera semilla para obtener siempre el mismo resultado\n",
        "random.shuffle(neg_img_list) # se reordena la lista de manera aleatoria"
      ],
      "metadata": {
        "id": "wioHSYvwsrFv"
      },
      "execution_count": null,
      "outputs": []
    },
    {
      "cell_type": "code",
      "source": [
        "# Se define función auxiliar para detectar colisiones entre imágenes\n",
        "from collections import namedtuple\n",
        "Rectangle = namedtuple('Rectangle', 'xmin ymin xmax ymax')\n",
        "def area(a, b):  # returns None if rectangles don't intersect\n",
        "    dx = min(a.xmax, b.xmax) - max(a.xmin, b.xmin)\n",
        "    dy = min(a.ymax, b.ymax) - max(a.ymin, b.ymin)\n",
        "    if (dx>=0) and (dy>=0):\n",
        "        return dx*dy"
      ],
      "metadata": {
        "id": "mLxKdIpdu888"
      },
      "execution_count": null,
      "outputs": []
    },
    {
      "cell_type": "code",
      "source": [
        "# Se establece número de imágenes por mosaico\n",
        "n_img_por_mosaico = 7 # este valor debe ser ingresado por el usuario\n",
        "# Se establece resolución de imagen de salida\n",
        "res_mosaico = [1024,768] # [width, height]\n",
        "# Aplicar máscara?\n",
        "do_Mask = True"
      ],
      "metadata": {
        "id": "FX-nP9D_vHyR"
      },
      "execution_count": null,
      "outputs": []
    },
    {
      "cell_type": "code",
      "source": [
        "# Se va al directorio de salida\n",
        "%cd /content/Custom_Mosaics/val/"
      ],
      "metadata": {
        "id": "8TXT37MsvXqy"
      },
      "execution_count": null,
      "outputs": []
    },
    {
      "cell_type": "code",
      "source": [
        "from IPython.core.display import Javascript\n",
        "# Se definen tamaños máximos y mínimos para las imágenes de rostros\n",
        "max_face_res = [90, 90] # [ancho, alto]\n",
        "min_face_res = [25, 25] # [ancho, alto]\n",
        "# Se calcula el número de imágenes para la proporción definida\n",
        "n_L = 1\n",
        "n_M = 1\n",
        "n_S = 1\n",
        "# Proporción del fondo por sección (S, M, L)\n",
        "b_size_L = 0.35\n",
        "b_size_M = 0.3\n",
        "b_size_S = (1 - b_size_L - b_size_M)\n",
        "# Se calcula el número de píxels verticales del fondo que corresponde a cada proporción\n",
        "b_L = int(b_size_L*res_mosaico[1])\n",
        "b_M = int(b_size_M*res_mosaico[1])\n",
        "b_S = res_mosaico[1] - b_L - b_M\n",
        "\n",
        "# Se inicializa lista con registro de coordenadas\n",
        "img_reg = list()\n",
        "neg_img_counter = 0 # contador de imágenes negativas\n",
        "process_counter = 0 # contador de progreso\n",
        "\n",
        "# Se inicializa variable contadora de imágenes generadas\n",
        "j = 0\n",
        "# Se comienza con la generación de los mosaicos\n",
        "while j < len(img_list):\n",
        "  # se crea archivo de texto para guardar anotaciones (etiqueta)\n",
        "  background_label = open(f'{j}.txt', 'w')\n",
        "  # Se crea fondo negro\n",
        "  background = Image.new('RGB', res_mosaico, (0, 0, 0))\n",
        "  # Se define número de ejemplos negativos a agregar por mosaico generado\n",
        "  n_ejem_neg_por_mosaic = 10\n",
        "  # Se inicializa lista con registro de vértices de imágenes ya colocadas\n",
        "  img_reg = [(0, 0, 2, 2)] # cuadrado de lado 2\n",
        "  # Se agregan los ejemplos negativos de manera aleatória\n",
        "  for ji in range(n_ejem_neg_por_mosaic):\n",
        "    # si el contador igualó o sobrepasó el máximo, se reinicia\n",
        "    if ji+neg_img_counter >= len(neg_img_list): neg_img_counter = 0\n",
        "    # Se abre imagen de ejemplo negativo a agregar\n",
        "    ejem_neg = Image.open(f'{neg_img_list[ji + neg_img_counter]}')\n",
        "    # Se genera propuesta de coordenadas aleatoriamente\n",
        "    neg_pos_x = random.randint(0, res_mosaico[0])\n",
        "    neg_pos_y = random.randint(0, b_S + b_M)\n",
        "    # Se agrega el ejemplo negativo al fondo\n",
        "    background.paste(ejem_neg, (neg_pos_x, neg_pos_y))\n",
        "    # Se cierra imagen abierta con ejemplo negativo\n",
        "    ejem_neg.close()\n",
        "  # se agrega el número de ejemplos negatios agregados al contador\n",
        "  neg_img_counter = neg_img_counter + n_ejem_neg_por_mosaic\n",
        "\n",
        "  # Contador de colisiones\n",
        "  n_colisiones = 0\n",
        "  # Se verifica si se llegó a las últimas imágenes\n",
        "  if (len(img_list) - j) < n_img_por_mosaico:\n",
        "    n_img_por_mosaico = len(img_list) - j # se reduce número de rostros por imagen generada\n",
        "  # Se agregan las fotos con rostros al fondo\n",
        "  for i in range(n_img_por_mosaico):\n",
        "    # Se abre imagen con rostro\n",
        "    face = Image.open(f'{img_list[i+j]}')\n",
        "    # se abre archivo de txt del rostro\n",
        "    label_name = f\"{img_list[i+j]}\"\n",
        "    face_label = open(f'{label_name[:-4]}.txt','r')\n",
        "    parameters = face_label.readlines() # Se lee la línea con los parámetros del rostro\n",
        "    parameters = parameters[0].split(\" \") # Se separan los parámetros y se guardan en forma de lista\n",
        "    # Se asigna el número de copias del mismo rostro dependiendo de la clase de la imagen\n",
        "    if int(parameters[0])==0: #Neutral\n",
        "      n_L = 2\n",
        "      n_M = 1\n",
        "      n_S = 1\n",
        "    elif int(parameters[0])==1: #Happy\n",
        "      n_L = 2\n",
        "      n_M = 2\n",
        "      n_S = 2\n",
        "    elif int(parameters[0])==2: #Sad\n",
        "      n_L = 1\n",
        "      n_M = 1\n",
        "      n_S = 1\n",
        "    elif int(parameters[0])==3: #Surprise\n",
        "      n_L = 1\n",
        "      n_M = 1\n",
        "      n_S = 0\n",
        "    elif int(parameters[0])==4: #Fear\n",
        "      n_L = 1\n",
        "      n_M = 1\n",
        "      n_S = 0\n",
        "    elif int(parameters[0])==5: #Disgust\n",
        "      n_L = 1\n",
        "      n_M = 0\n",
        "      n_S = 0\n",
        "    elif int(parameters[0])==6: #Anger\n",
        "      n_L = 1\n",
        "      n_M = 1\n",
        "      n_S = 1\n",
        "    else: #Contempt\n",
        "      n_L = 1\n",
        "      n_M = 0\n",
        "      n_S = 0\n",
        "    \n",
        "    # Se copian los rostros al mosaico en los distintos tamaños\n",
        "    for ii in range(n_S + n_M + n_L):\n",
        "      if ii < n_L:\n",
        "        # número de imágenes por sección\n",
        "        n_img = n_L\n",
        "        # tamaño máximo y mínimo para cada rostro reescalado\n",
        "        xface_min = 2*int((max_face_res[0] - min_face_res[0])/3) + min_face_res[0]\n",
        "        xface_max = max_face_res[0]\n",
        "        yface_min = 2*int((max_face_res[1] - min_face_res[1])/3) + min_face_res[1]\n",
        "        yface_max = max_face_res[1]\n",
        "        # posición vertical mínima y máxima admitida\n",
        "        y_min = (res_mosaico[1] - b_L)\n",
        "        y_max = (res_mosaico[1] - yface_max)\n",
        "        # posición horizontal mínima y máxima admitida\n",
        "        x_min = 0\n",
        "        x_max = res_mosaico[0]-xface_max\n",
        "\n",
        "      elif ii >= n_L and ii < (n_M + n_L): \n",
        "        # número de imágenes por sección\n",
        "        n_img = n_M\n",
        "        # tamaño máximo y mínimo para cada rostro reescalado\n",
        "        xface_min = int((max_face_res[0] - min_face_res[0])/3) + min_face_res[0]\n",
        "        xface_max = 2*int((max_face_res[0] - min_face_res[0])/3) + min_face_res[0]\n",
        "        yface_min = int((max_face_res[1] - min_face_res[1])/3) + min_face_res[1]\n",
        "        yface_max = 2*int((max_face_res[1] - min_face_res[1])/3) + min_face_res[1]\n",
        "        # posición vertical mínima y máxima admitida\n",
        "        y_min = (res_mosaico[1] - b_L - b_M)\n",
        "        y_max = (res_mosaico[1] - b_L - yface_max)\n",
        "        # posición horizontal mínima y máxima admitida\n",
        "        x_min = 0\n",
        "        x_max = res_mosaico[0]-xface_max\n",
        "\n",
        "      elif ii >= (n_M + n_L) and ii < (n_S + n_M + n_L):\n",
        "        # número de imágenes por sección\n",
        "        n_img = n_S\n",
        "        # tamaño máximo y mínimo para cada rostro reescalado\n",
        "        xface_min = min_face_res[0]\n",
        "        xface_max = int((max_face_res[0] - min_face_res[0])/3) + min_face_res[0]\n",
        "        yface_min = min_face_res[1]\n",
        "        yface_max = int((max_face_res[1] - min_face_res[1])/3) + min_face_res[1]\n",
        "        # posición vertical mínima y máxima admitida\n",
        "        y_min = 0\n",
        "        y_max = (res_mosaico[1] - b_L - b_M - yface_max)\n",
        "        # posición horizontal mínima y máxima admitida\n",
        "        x_min = 0\n",
        "        x_max = res_mosaico[0]-xface_max\n",
        "\n",
        "      # Se calcula nueva dimensión de imagen con rostro\n",
        "      new_x_size = random.randint(xface_min, xface_max)\n",
        "      #new_y_size = random.randint(yface_min, yface_max) # se pierde aspect ratio :(\n",
        "      #Se calcula el alto para conservar aspect ratio\n",
        "      wpercent = (new_x_size/float(face.size[0]))\n",
        "      new_y_size = int((float(face.size[1])*float(wpercent)))\n",
        "      # Se escala la imagen seleccionada\n",
        "      face = face.resize((new_x_size, new_y_size), resample=PIL.Image.BILINEAR)\n",
        "      # Se calcula posición de la imagen asegurando la no intersección con imágenes anteriores\n",
        "      do_intersect = True # variable de verificación\n",
        "      # Se genera posición nueva y se verifica la no intersección\n",
        "      while do_intersect:\n",
        "        # generación de coordenadas nuevas\n",
        "        new_x_pos = random.randint(x_min, x_max)\n",
        "        new_y_pos = random.randint(y_min, y_max)\n",
        "        # Se define vértice inferior derecho de la img\n",
        "        v_inf_der = (new_x_pos, new_y_pos)\n",
        "        # Se calcula el vértice superior izquierdo de la img\n",
        "        v_sup_izq = (new_x_pos - new_x_size, new_y_pos - new_y_size)\n",
        "\n",
        "        # Se define padding adicional a la imagen\n",
        "        padding = 4 # píxeles\n",
        "\n",
        "        # Se detecta intersección entre otras imágenes\n",
        "        c2 = (v_sup_izq[0] - padding, v_sup_izq[1] - padding, v_inf_der[0] + padding , v_inf_der[1] + padding)\n",
        "        d2 = Rectangle(c2[0],c2[1],c2[2],c2[3])\n",
        "        for old_coord in img_reg:\n",
        "          c1 = np.asarray(old_coord)\n",
        "          d1 = Rectangle(c1[0],c1[1],c1[2],c1[3])\n",
        "          #Se evalúa si la intersección entre ambas imágenes es distinto de vacío\n",
        "          if area(d1,d2) is None:\n",
        "            do_intersect = False # No se detectó intersección\n",
        "          else:\n",
        "            do_intersect = True # Se detectó intersección\n",
        "            n_colisiones = n_colisiones + 1\n",
        "            break # se detiene ciclo for y se vuelve a generar coordenadas\n",
        "\n",
        "      # Una vez se verifició que no hay colisión, se guarda coordenadas en registro\n",
        "      img_reg.append(c2)\n",
        "\n",
        "      # Se agrega máscara circular si do_Mask es True\n",
        "      if do_Mask:\n",
        "        #Se aplica máscara circular\n",
        "        lum_img = Image.new('L',[new_x_size,new_y_size] ,0) \n",
        "        draw = ImageDraw.Draw(lum_img)\n",
        "        draw.pieslice([(0,0),(new_x_size,new_y_size)],0,360,fill=255)\n",
        "        # Se pega la imagen en el fondo\n",
        "        background.paste(face, (new_x_pos, new_y_pos),lum_img)\n",
        "\n",
        "      # Se abre archivo de texto del respectivo rostro\n",
        "      label_name = f\"{img_list[i+j]}\"\n",
        "      face_label = open(f'{label_name[:-4]}.txt','r')\n",
        "      parameters = face_label.readlines() # Se lee la línea con los parámetros del rostro\n",
        "      parameters = parameters[0].split(\" \") # Se separan los parámetros y se guardan en forma de lista\n",
        "      parameters[1] = ((float(parameters[1])*new_x_size)+new_x_pos)/res_mosaico[0]\n",
        "      parameters[2] = ((float(parameters[2])*new_y_size)+new_y_pos)/res_mosaico[1]\n",
        "      parameters[3] = ((float(parameters[3])*new_x_size))/res_mosaico[0]\n",
        "      parameters[4]  = ((float(parameters[4])*new_y_size))/res_mosaico[1]\n",
        "      # Se genera string con parámetros y se escribe en etiqueta de imagen generada\n",
        "      parameters_line = ' '.join(map(str,parameters))\n",
        "      # Se escriben los parámetros en el archivo de texto\n",
        "      background_label.write(f\"{parameters_line}\\n\")\n",
        "      face_label.close() # Se cierra el archivo\n",
        "\n",
        "  # Se guarda imagen de fondo modificado\n",
        "  background.save(f\"{j}.jpg\")\n",
        "\n",
        "  # Se guarda archivo de texto\n",
        "  background_label.close()\n",
        "\n",
        "  # Se incrementa contador de imágenes con las imágenes procesadas\n",
        "  j = j + n_img_por_mosaico\n",
        "  # Se imprime mensaje de progreso\n",
        "  print(f'Progreso: {float(j/len(img_list)*100):.2f}%', end = '', flush=True)\n",
        "  #print(\"\", end = '\\r')\n",
        "  print(\"\")\n",
        "  # Se incrementa el contador\n",
        "  process_counter += 1\n",
        "print(\"[INFO]: Conjunto de validación generado correctamente.\")"
      ],
      "metadata": {
        "id": "sCYj1uwBvnte"
      },
      "execution_count": null,
      "outputs": []
    },
    {
      "cell_type": "markdown",
      "source": [
        "## Conjunto de Testeo"
      ],
      "metadata": {
        "id": "CmYmRzxxM-vn"
      }
    },
    {
      "cell_type": "code",
      "source": [
        "# Se genera lista con nombres de archivos en conjunto de validación\n",
        "img_list = list() # se inicializa lista para imágenes\n",
        "# Se agregan los nombres de las imágenes a la lista\n",
        "img_list = [x for x in glob.glob(f\"{test_set_addr}/*.jpg\")]\n",
        "# Se imprime número de imágenes encontradas en conjunto de entrenamiento\n",
        "print(f'[INFO]: Número de imágenes encontradas en set de testeo: {len(img_list)}')\n",
        "# Se reordena la lista con nombres de manera aleatoria\n",
        "random.seed(123) # se genera semilla para obtener siempre el mismo resultado\n",
        "random.shuffle(img_list) # se reordena la lista de manera aleatoria"
      ],
      "metadata": {
        "id": "t5C30CVBNP3u"
      },
      "execution_count": null,
      "outputs": []
    },
    {
      "cell_type": "code",
      "source": [
        "# Se genera lista con nombres de archivos en conjunto de ejemplos negativos\n",
        "neg_img_list = list() # se inicializa lista de imágenes\n",
        "# Se agergan los nombres de las imágenes a la lista\n",
        "neg_img_list = [x for x in glob.glob(f\"/content/Ejemplos_negativos/*.jpg\")]\n",
        "# Se imprime número de imágenes encontradas en conjunto de ejemplos negativos\n",
        "print(f'[INFO]: Número de imágenes encontradas en set de ejemplos negativos: {len(neg_img_list)}')\n",
        "# Se reordena la lista con nombres de manera aleatoria\n",
        "random.seed(123) # se genera semilla para obtener siempre el mismo resultado\n",
        "random.shuffle(neg_img_list) # se reordena la lista de manera aleatoria"
      ],
      "metadata": {
        "id": "489-7enTkYvC"
      },
      "execution_count": null,
      "outputs": []
    },
    {
      "cell_type": "code",
      "source": [
        "# Se establece número de imágenes por mosaico\n",
        "n_img_por_mosaico = 7 # este valor debe ser ingresado por el usuario\n",
        "# Se establece resolución de imagen de salida\n",
        "res_mosaico = [1024,768] # [width, height]\n",
        "# Aplicar máscara?\n",
        "do_Mask = True"
      ],
      "metadata": {
        "id": "tO1eDCMJkdo8"
      },
      "execution_count": null,
      "outputs": []
    },
    {
      "cell_type": "code",
      "source": [
        "# Se va al directorio de salida\n",
        "%cd /content/Custom_Mosaics/test/"
      ],
      "metadata": {
        "id": "rHCjxtMGNbEj"
      },
      "execution_count": null,
      "outputs": []
    },
    {
      "cell_type": "code",
      "source": [
        "from IPython.core.display import Javascript\n",
        "# Se definen tamaños máximos y mínimos para las imágenes de rostros\n",
        "max_face_res = [90, 90] # [ancho, alto]\n",
        "min_face_res = [25, 25] # [ancho, alto]\n",
        "# Se calcula el número de imágenes para la proporción definida\n",
        "n_L = 1\n",
        "n_M = 1\n",
        "n_S = 1\n",
        "# Proporción del fondo por sección (S, M, L)\n",
        "b_size_L = 0.4\n",
        "b_size_M = 0.25\n",
        "b_size_S = (1 - b_size_L - b_size_M)\n",
        "# Se calcula el número de píxels verticales del fondo que corresponde a cada proporción\n",
        "b_L = int(b_size_L*res_mosaico[1])\n",
        "b_M = int(b_size_M*res_mosaico[1])\n",
        "b_S = res_mosaico[1] - b_L - b_M\n",
        "\n",
        "# Se inicializa lista con registro de coordenadas\n",
        "img_reg = list()\n",
        "neg_img_counter = 0 # contador de imágenes negativas\n",
        "process_counter = 0 # contador de progreso\n",
        "\n",
        "# Se inicializa variable contadora de imágenes generadas\n",
        "j = 0\n",
        "# Se comienza con la generación de los mosaicos\n",
        "while j < len(img_list):\n",
        "  # se crea archivo de texto para guardar anotaciones (etiqueta)\n",
        "  background_label = open(f'{j}.txt', 'w')\n",
        "  # Se crea fondo negro\n",
        "  background = Image.new('RGB', res_mosaico, (0, 0, 0))\n",
        "  # Se define número de ejemplos negativos a agregar por mosaico generado\n",
        "  n_ejem_neg_por_mosaic = 10\n",
        "  # Se inicializa lista con registro de vértices de imágenes ya colocadas\n",
        "  img_reg = [(0, 0, 2, 2)] # cuadrado de lado 2\n",
        "  # Se agregan los ejemplos negativos de manera aleatória\n",
        "  for ji in range(n_ejem_neg_por_mosaic):\n",
        "    # si el contador igualó o sobrepasó el máximo, se reinicia\n",
        "    if ji+neg_img_counter >= len(neg_img_list): neg_img_counter = 0\n",
        "    # Se abre imagen de ejemplo negativo a agregar\n",
        "    ejem_neg = Image.open(f'{neg_img_list[ji + neg_img_counter]}')\n",
        "    # Se genera propuesta de coordenadas aleatoriamente\n",
        "    neg_pos_x = random.randint(0, res_mosaico[0])\n",
        "    neg_pos_y = random.randint(0, b_S + b_M)\n",
        "    # Se agrega el ejemplo negativo al fondo\n",
        "    background.paste(ejem_neg, (neg_pos_x, neg_pos_y))\n",
        "    # Se cierra imagen abierta con ejemplo negativo\n",
        "    ejem_neg.close()\n",
        "  # se agrega el número de ejemplos negatios agregados al contador\n",
        "  neg_img_counter = neg_img_counter + n_ejem_neg_por_mosaic\n",
        "\n",
        "  # Contador de colisiones\n",
        "  n_colisiones = 0\n",
        "  # Se verifica si se llegó a las últimas imágenes\n",
        "  if (len(img_list) - j) < n_img_por_mosaico:\n",
        "    n_img_por_mosaico = len(img_list) - j # se reduce número de rostros por imagen generada\n",
        "  # Se agregan las fotos con rostros al fondo\n",
        "  for i in range(n_img_por_mosaico):\n",
        "    # Se abre imagen con rostro\n",
        "    face = Image.open(f'{img_list[i+j]}')\n",
        "    # se abre archivo de txt del rostro\n",
        "    label_name = f\"{img_list[i+j]}\"\n",
        "    face_label = open(f'{label_name[:-4]}.txt','r')\n",
        "    parameters = face_label.readlines() # Se lee la línea con los parámetros del rostro\n",
        "    parameters = parameters[0].split(\" \") # Se separan los parámetros y se guardan en forma de lista\n",
        "    # Se asigna el número de copias del mismo rostro dependiendo de la clase de la imagen\n",
        "    if int(parameters[0])==0: #Neutral\n",
        "      n_L = 2\n",
        "      n_M = 1\n",
        "      n_S = 1\n",
        "    elif int(parameters[0])==1: #Happy\n",
        "      n_L = 2\n",
        "      n_M = 2\n",
        "      n_S = 2\n",
        "    elif int(parameters[0])==2: #Sad\n",
        "      n_L = 1\n",
        "      n_M = 1\n",
        "      n_S = 1\n",
        "    elif int(parameters[0])==3: #Surprise\n",
        "      n_L = 1\n",
        "      n_M = 1\n",
        "      n_S = 0\n",
        "    elif int(parameters[0])==4: #Fear\n",
        "      n_L = 1\n",
        "      n_M = 1\n",
        "      n_S = 0\n",
        "    elif int(parameters[0])==5: #Disgust\n",
        "      n_L = 1\n",
        "      n_M = 0\n",
        "      n_S = 0\n",
        "    elif int(parameters[0])==6: #Anger\n",
        "      n_L = 1\n",
        "      n_M = 1\n",
        "      n_S = 1\n",
        "    else: #Contempt\n",
        "      n_L = 1\n",
        "      n_M = 0\n",
        "      n_S = 0\n",
        "    \n",
        "    # Se copian los rostros al mosaico en los distintos tamaños\n",
        "    for ii in range(n_S + n_M + n_L):\n",
        "      if ii < n_L:\n",
        "        # número de imágenes por sección\n",
        "        n_img = n_L\n",
        "        # tamaño máximo y mínimo para cada rostro reescalado\n",
        "        xface_min = 2*int((max_face_res[0] - min_face_res[0])/3) + min_face_res[0]\n",
        "        xface_max = max_face_res[0]\n",
        "        yface_min = 2*int((max_face_res[1] - min_face_res[1])/3) + min_face_res[1]\n",
        "        yface_max = max_face_res[1]\n",
        "        # posición vertical mínima y máxima admitida\n",
        "        y_min = (res_mosaico[1] - b_L)\n",
        "        y_max = (res_mosaico[1] - yface_max)\n",
        "        # posición horizontal mínima y máxima admitida\n",
        "        x_min = 0\n",
        "        x_max = res_mosaico[0]-xface_max\n",
        "\n",
        "      elif ii >= n_L and ii < (n_M + n_L): \n",
        "        # número de imágenes por sección\n",
        "        n_img = n_M\n",
        "        # tamaño máximo y mínimo para cada rostro reescalado\n",
        "        xface_min = int((max_face_res[0] - min_face_res[0])/3) + min_face_res[0]\n",
        "        xface_max = 2*int((max_face_res[0] - min_face_res[0])/3) + min_face_res[0]\n",
        "        yface_min = int((max_face_res[1] - min_face_res[1])/3) + min_face_res[1]\n",
        "        yface_max = 2*int((max_face_res[1] - min_face_res[1])/3) + min_face_res[1]\n",
        "        # posición vertical mínima y máxima admitida\n",
        "        y_min = (res_mosaico[1] - b_L - b_M)\n",
        "        y_max = (res_mosaico[1] - b_L - yface_max)\n",
        "        # posición horizontal mínima y máxima admitida\n",
        "        x_min = 0\n",
        "        x_max = res_mosaico[0]-xface_max\n",
        "\n",
        "      elif ii >= (n_M + n_L) and ii < (n_S + n_M + n_L):\n",
        "        # número de imágenes por sección\n",
        "        n_img = n_S\n",
        "        # tamaño máximo y mínimo para cada rostro reescalado\n",
        "        xface_min = min_face_res[0]\n",
        "        xface_max = int((max_face_res[0] - min_face_res[0])/3) + min_face_res[0]\n",
        "        yface_min = min_face_res[1]\n",
        "        yface_max = int((max_face_res[1] - min_face_res[1])/3) + min_face_res[1]\n",
        "        # posición vertical mínima y máxima admitida\n",
        "        y_min = 0\n",
        "        y_max = (res_mosaico[1] - b_L - b_M - yface_max)\n",
        "        # posición horizontal mínima y máxima admitida\n",
        "        x_min = 0\n",
        "        x_max = res_mosaico[0]-xface_max\n",
        "\n",
        "      # Se calcula nueva dimensión de imagen con rostro\n",
        "      new_x_size = random.randint(xface_min, xface_max)\n",
        "      #new_y_size = random.randint(yface_min, yface_max) # se pierde aspect ratio :(\n",
        "      #Se calcula el alto para conservar aspect ratio\n",
        "      wpercent = (new_x_size/float(face.size[0]))\n",
        "      new_y_size = int((float(face.size[1])*float(wpercent)))\n",
        "      # Se escala la imagen seleccionada\n",
        "      face = face.resize((new_x_size, new_y_size), resample=PIL.Image.BILINEAR)\n",
        "      # Se calcula posición de la imagen asegurando la no intersección con imágenes anteriores\n",
        "      do_intersect = True # variable de verificación\n",
        "      # Se genera posición nueva y se verifica la no intersección\n",
        "      while do_intersect:\n",
        "        # generación de coordenadas nuevas\n",
        "        new_x_pos = random.randint(x_min, x_max)\n",
        "        new_y_pos = random.randint(y_min, y_max)\n",
        "        # Se define vértice inferior derecho de la img\n",
        "        v_inf_der = (new_x_pos, new_y_pos)\n",
        "        # Se calcula el vértice superior izquierdo de la img\n",
        "        v_sup_izq = (new_x_pos - new_x_size, new_y_pos - new_y_size)\n",
        "\n",
        "        # Se define padding adicional a la imagen\n",
        "        padding = 4 # píxeles\n",
        "\n",
        "        # Se detecta intersección entre otras imágenes\n",
        "        c2 = (v_sup_izq[0] - padding, v_sup_izq[1] - padding, v_inf_der[0] + padding , v_inf_der[1] + padding)\n",
        "        d2 = Rectangle(c2[0],c2[1],c2[2],c2[3])\n",
        "        for old_coord in img_reg:\n",
        "          c1 = np.asarray(old_coord)\n",
        "          d1 = Rectangle(c1[0],c1[1],c1[2],c1[3])\n",
        "          #Se evalúa si la intersección entre ambas imágenes es distinto de vacío\n",
        "          if area(d1,d2) is None:\n",
        "            do_intersect = False # No se detectó intersección\n",
        "          else:\n",
        "            do_intersect = True # Se detectó intersección\n",
        "            n_colisiones = n_colisiones + 1\n",
        "            break # se detiene ciclo for y se vuelve a generar coordenadas\n",
        "\n",
        "      # Una vez se verifició que no hay colisión, se guarda coordenadas en registro\n",
        "      img_reg.append(c2)\n",
        "\n",
        "      # Se agrega máscara circular si do_Mask es True\n",
        "      if do_Mask:\n",
        "        #Se aplica máscara circular\n",
        "        lum_img = Image.new('L',[new_x_size,new_y_size] ,0) \n",
        "        draw = ImageDraw.Draw(lum_img)\n",
        "        draw.pieslice([(0,0),(new_x_size,new_y_size)],0,360,fill=255)\n",
        "        # Se pega la imagen en el fondo\n",
        "        background.paste(face, (new_x_pos, new_y_pos),lum_img)\n",
        "\n",
        "      # Se abre archivo de texto del respectivo rostro\n",
        "      label_name = f\"{img_list[i+j]}\"\n",
        "      face_label = open(f'{label_name[:-4]}.txt','r')\n",
        "      parameters = face_label.readlines() # Se lee la línea con los parámetros del rostro\n",
        "      parameters = parameters[0].split(\" \") # Se separan los parámetros y se guardan en forma de lista\n",
        "      parameters[1] = ((float(parameters[1])*new_x_size)+new_x_pos)/res_mosaico[0]\n",
        "      parameters[2] = ((float(parameters[2])*new_y_size)+new_y_pos)/res_mosaico[1]\n",
        "      parameters[3] = ((float(parameters[3])*new_x_size))/res_mosaico[0]\n",
        "      parameters[4]  = ((float(parameters[4])*new_y_size))/res_mosaico[1]\n",
        "      # Se genera string con parámetros y se escribe en etiqueta de imagen generada\n",
        "      parameters_line = ' '.join(map(str,parameters))\n",
        "      # Se escriben los parámetros en el archivo de texto\n",
        "      background_label.write(f\"{parameters_line}\\n\")\n",
        "      face_label.close() # Se cierra el archivo\n",
        "\n",
        "  # Se guarda imagen de fondo modificado\n",
        "  background.save(f\"{j}.jpg\")\n",
        "\n",
        "  # Se guarda archivo de texto\n",
        "  background_label.close()\n",
        "\n",
        "  # Se incrementa contador de imágenes con las imágenes procesadas\n",
        "  j = j + n_img_por_mosaico\n",
        "  # Se imprime mensaje de progreso\n",
        "  print(f'Progreso: {float(j/len(img_list)*100):.2f}%', end = '', flush=True)\n",
        "  #print(\"\", end = '\\r')\n",
        "  print(\"\")\n",
        "  # Se incrementa el contador\n",
        "  process_counter += 1\n",
        "print(\"[INFO]: Conjunto de validación generado correctamente.\")"
      ],
      "metadata": {
        "id": "3Q_i0eLgM7Q6"
      },
      "execution_count": null,
      "outputs": []
    },
    {
      "cell_type": "markdown",
      "source": [
        "## Guardado de los mosaicos"
      ],
      "metadata": {
        "id": "n7auTMANOEmd"
      }
    },
    {
      "cell_type": "code",
      "source": [
        "# se verifica número de imágenes en ambos conjuntos generados\n",
        "# Validación\n",
        "img_list = [x for x in glob.glob(\"/content/Custom_Mosaics/val/*.jpg\")]\n",
        "print(f\"Total de mosaicos en conjunto de validación: {len(img_list)}\")\n",
        "# Testeo\n",
        "img_list = [x for x in glob.glob(\"/content/Custom_Mosaics/test/*.jpg\")]\n",
        "print(f\"Total de mosaicos en conjunto de testeo: {len(img_list)}\")"
      ],
      "metadata": {
        "id": "mgPIDE-fOEAr"
      },
      "execution_count": null,
      "outputs": []
    },
    {
      "cell_type": "code",
      "source": [
        "# Se crean directorios para guardado\n",
        "!mkdir /mydrive/Generacion_datasets_eval_balanceados_v1/Custom_Mosaics\n",
        "!mkdir /mydrive/Generacion_datasets_eval_balanceados_v1/Custom_Mosaics/testeo\n",
        "!mkdir /mydrive/Generacion_datasets_eval_balanceados_v1/Custom_Mosaics/validacion"
      ],
      "metadata": {
        "id": "3Fv_udjPnkaG"
      },
      "execution_count": null,
      "outputs": []
    },
    {
      "cell_type": "code",
      "source": [
        "# Se procede a comprimir y copiar los datasets a GDrive\n",
        "%cd /content/Custom_Mosaics/testeo/\n",
        "!zip -r /mydrive/Generacion_datasets_eval_balanceados_v1/Custom_Mosaics/testeo/test.zip ./\n",
        "%cd /content/Custom_Mosaics/validacion/\n",
        "!zip -r /mydrive/Generacion_datasets_eval_balanceados_v1/Custom_Mosaics/validacion/test.zip ./"
      ],
      "metadata": {
        "id": "5y9K7DjJm4vS"
      },
      "execution_count": null,
      "outputs": []
    }
  ]
}